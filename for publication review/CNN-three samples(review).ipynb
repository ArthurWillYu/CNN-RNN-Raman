{
 "cells": [
  {
   "cell_type": "code",
   "execution_count": 1,
   "metadata": {},
   "outputs": [],
   "source": [
    "import numpy as np\n",
    "import csv\n",
    "import pandas as pd\n",
    "import torch\n",
    "from torch.autograd import Variable\n",
    "import torch.nn.functional as F\n",
    "import matplotlib.pyplot as plt\n",
    "import torch.nn as nn\n",
    "import torch.utils.data as Data\n",
    "import torchvision"
   ]
  },
  {
   "cell_type": "code",
   "execution_count": 2,
   "metadata": {},
   "outputs": [
    {
     "name": "stdout",
     "output_type": "stream",
     "text": [
      "(1139, 1201)\n"
     ]
    },
    {
     "data": {
      "text/plain": [
       "\"\\nX_train, X_test, y_train, y_test = train_test_split(X, y, test_size=0.3, random_state=42)\\n #此步骤，是为了将训练集与数据集的数据分别保存为CSV文件\\n #np.column_stack将两个矩阵进行组合连接\\ntrain= np.column_stack((X_train,y_train))\\n #numpy.savetxt 将txt文件保存为.csv结尾的文件\\nnp.savetxt('train_usual.csv',train, delimiter = ',')\\ntest = np.column_stack((X_test, y_test))\\nnp.savetxt('test_usual.csv', test, delimiter = ',')\\n\""
      ]
     },
     "execution_count": 2,
     "metadata": {},
     "output_type": "execute_result"
    }
   ],
   "source": [
    "from sklearn.model_selection import train_test_split\n",
    " #首先，读取.CSV文件成矩阵的形式。\n",
    "my_matrix = np.loadtxt(open(\"results.csv\"),delimiter=\",\",skiprows=0)\n",
    "#print(my_matrix)\n",
    " #对于矩阵而言，将矩阵倒数第一列之前的数值给了X（输入数据），将矩阵大最后一列的数值给了y（标签）\n",
    "#X, y = my_matrix[:,:-1],my_matrix[:,-1]\n",
    " #利用train_test_split方法，将X,y随机划分问，训练集（X_train），训练集标签（X_test），测试卷（y_train），\n",
    " #测试集标签（y_test），安训练集：测试集=7:3的\n",
    " #概率划分，到此步骤，可以直接对数据进行处理\n",
    "print(my_matrix.shape)\n",
    "'''\n",
    "X_train, X_test, y_train, y_test = train_test_split(X, y, test_size=0.3, random_state=42)\n",
    " #此步骤，是为了将训练集与数据集的数据分别保存为CSV文件\n",
    " #np.column_stack将两个矩阵进行组合连接\n",
    "train= np.column_stack((X_train,y_train))\n",
    " #numpy.savetxt 将txt文件保存为.csv结尾的文件\n",
    "np.savetxt('train_usual.csv',train, delimiter = ',')\n",
    "test = np.column_stack((X_test, y_test))\n",
    "np.savetxt('test_usual.csv', test, delimiter = ',')\n",
    "'''"
   ]
  },
  {
   "cell_type": "code",
   "execution_count": 3,
   "metadata": {},
   "outputs": [],
   "source": [
    "data0 =my_matrix[:150]\n",
    "data1 =my_matrix[150:300]\n",
    "data2 =my_matrix[300:402]\n",
    "data3 =my_matrix[402:539]\n",
    "data4 =my_matrix[539:689]\n",
    "data5 =my_matrix[689:839]\n",
    "data6 =my_matrix[839:989]\n",
    "data7 =my_matrix[989:1139]\n"
   ]
  },
  {
   "cell_type": "code",
   "execution_count": null,
   "metadata": {},
   "outputs": [],
   "source": []
  },
  {
   "cell_type": "code",
   "execution_count": null,
   "metadata": {},
   "outputs": [],
   "source": []
  },
  {
   "cell_type": "code",
   "execution_count": 4,
   "metadata": {},
   "outputs": [],
   "source": [
    "data00 = data0[:50]\n",
    "data01 = data0[50:100]\n",
    "data02 = data0[100:]\n",
    "data10 = data1[:50]\n",
    "data11 = data1[50:100]\n",
    "data12 = data1[100:]\n",
    "data20 = data2[:50]\n",
    "data21 = data2[50:100]\n",
    "data22 = data2[100:]\n",
    "data30 = data3[:33]\n",
    "data31 = data3[33:66]\n",
    "data32 = data3[66:99]\n",
    "data40 = data4[:40]\n",
    "data41 = data4[40:80]\n",
    "data42 = data4[80:120]\n",
    "data50 = data5[:50]\n",
    "data51 = data5[50:100]\n",
    "data52 = data5[100:]\n",
    "data60 = data6[:50]\n",
    "data61 = data6[50:100]\n",
    "data62 = data6[100:]\n",
    "data70 = data7[:50]\n",
    "data71 = data7[50:100]\n",
    "data72 = data7[100:]"
   ]
  },
  {
   "cell_type": "code",
   "execution_count": null,
   "metadata": {},
   "outputs": [],
   "source": []
  },
  {
   "cell_type": "code",
   "execution_count": 5,
   "metadata": {},
   "outputs": [
    {
     "name": "stdout",
     "output_type": "stream",
     "text": [
      "[[2.53375282e-02 2.89133321e-02 3.39952158e-02 ... 1.56704908e-02\n",
      "  1.99782715e-02 0.00000000e+00]\n",
      " [5.88798866e-02 5.74962160e-02 4.76538705e-02 ... 2.72316495e-02\n",
      "  2.52601589e-02 0.00000000e+00]\n",
      " [4.64673025e-02 4.87694369e-02 4.11774291e-02 ... 5.80559149e-03\n",
      "  4.77172447e-03 0.00000000e+00]\n",
      " ...\n",
      " [5.51126081e-02 5.07795693e-02 4.96675108e-02 ... 2.50315444e-02\n",
      "  2.41013159e-02 7.00000000e+00]\n",
      " [1.57849159e-02 2.26311407e-02 2.83054937e-02 ... 1.32970418e-02\n",
      "  1.80799100e-02 7.00000000e+00]\n",
      " [1.88137476e-02 1.45880472e-02 1.21730603e-02 ... 6.55943832e-03\n",
      "  8.27603504e-03 7.00000000e+00]]\n"
     ]
    }
   ],
   "source": [
    "datab0 = np.vstack((data00,data10,data20,data30,data40,data50,data60,data70))\n",
    "datab1 = np.vstack((data01,data11,data21,data31,data41,data51,data61,data71))\n",
    "datab2 = np.vstack((data02,data12,data22,data32,data42,data52,data62,data72))\n",
    "\n",
    "#datab0t = np.vstack((data00t,data10t,data20t,data30t,data40t,data50t,data60t,data70t))\n",
    "#datab1t = np.vstack((data01t,data11t,data21t,data31t,data41t,data51t,data61t,data71t))\n",
    "#datab2t = np.vstack((data02t,data12t,data22t,data32t,data42t,data52t,data62t,data72t))\n",
    "\n",
    "\n",
    "print(datab2)"
   ]
  },
  {
   "cell_type": "code",
   "execution_count": 6,
   "metadata": {},
   "outputs": [],
   "source": [
    "#times1\n",
    "\n",
    "\n",
    "train = np.vstack((datab1,datab2))\n",
    "test = datab0\n"
   ]
  },
  {
   "cell_type": "code",
   "execution_count": 7,
   "metadata": {},
   "outputs": [
    {
     "name": "stdout",
     "output_type": "stream",
     "text": [
      "[0. 0. 0. 0. 0. 0. 0. 0. 0. 0. 0. 0. 0. 0. 0. 0. 0. 0. 0. 0. 0. 0. 0. 0.\n",
      " 0. 0. 0. 0. 0. 0. 0. 0. 0. 0. 0. 0. 0. 0. 0. 0. 0. 0. 0. 0. 0. 0. 0. 0.\n",
      " 0. 0. 1. 1. 1. 1. 1. 1. 1. 1. 1. 1. 1. 1. 1. 1. 1. 1. 1. 1. 1. 1. 1. 1.\n",
      " 1. 1. 1. 1. 1. 1. 1. 1. 1. 1. 1. 1. 1. 1. 1. 1. 1. 1. 1. 1. 1. 1. 1. 1.\n",
      " 1. 1. 1. 1. 2. 2. 2. 2. 2. 2. 2. 2. 2. 2. 2. 2. 2. 2. 2. 2. 2. 2. 2. 2.\n",
      " 2. 2. 2. 2. 2. 2. 2. 2. 2. 2. 2. 2. 2. 2. 2. 2. 2. 2. 2. 2. 2. 2. 2. 2.\n",
      " 2. 2. 2. 2. 2. 2. 2. 2. 2. 2. 2. 2. 2. 2. 2. 2. 2. 2. 2. 2. 2. 2. 2. 2.\n",
      " 2. 2. 2. 2. 2. 2. 2. 2. 2. 2. 2. 2. 2. 2. 2. 3. 3. 3. 3. 3. 3. 3. 3. 3.\n",
      " 3. 3. 3. 3. 4. 4. 4. 4. 4. 4. 4. 4. 4. 4. 4. 4. 4. 4. 4. 4. 4. 4. 4. 4.\n",
      " 4. 4. 4. 4. 4. 4. 4. 5. 5. 5. 5. 5. 5. 5. 5. 5. 5. 5. 5. 5. 5. 5. 5. 5.\n",
      " 5. 5. 5. 5. 5. 5. 5. 5. 5. 5. 5. 5. 5. 5. 5. 5. 5. 5. 5. 5. 5. 5. 5. 5.\n",
      " 5. 5. 5. 5. 5. 5. 5. 5. 5. 6. 6. 6. 6. 6. 6. 6. 6. 6. 6. 6. 6. 6. 6. 6.\n",
      " 6. 6. 6. 6. 6. 6. 6. 6. 6. 6. 6. 6. 6. 6. 6. 6. 6. 6. 6. 6. 6. 6. 6. 6.\n",
      " 6. 6. 6. 6. 6. 6. 6. 6. 6. 6. 6. 7. 7. 7. 7. 7. 7. 7. 7. 7. 7. 7. 7. 7.\n",
      " 7. 7. 7. 7. 7. 7. 7. 7. 7. 7. 7. 7. 7. 7. 7. 7. 7. 7. 7. 7. 7. 7. 7. 7.\n",
      " 7. 7. 7. 7. 7. 7. 7. 7. 7. 7. 7. 7. 7.]\n"
     ]
    }
   ],
   "source": [
    "#datab1 = np.array(datab0).reshape(1,374)\n",
    "#print(datab1)\n",
    "\n",
    "\n",
    "X_train, y_train = train[:,:-1],train[:,-1]\n",
    "X_test, y_test = test[:,:-1],test[:,-1]\n",
    "\n",
    "#X_train, X_test, y_train, y_test = train_test_split(X, y, test_size=0.3, random_state=42)\n",
    "\n",
    "\n",
    "print(y_test)"
   ]
  },
  {
   "cell_type": "code",
   "execution_count": 8,
   "metadata": {},
   "outputs": [
    {
     "name": "stderr",
     "output_type": "stream",
     "text": [
      "D:\\softwares\\Program Files\\Python37\\lib\\site-packages\\ipykernel_launcher.py:5: UserWarning: To copy construct from a tensor, it is recommended to use sourceTensor.clone().detach() or sourceTensor.clone().detach().requires_grad_(True), rather than torch.tensor(sourceTensor).\n",
      "  \"\"\"\n",
      "D:\\softwares\\Program Files\\Python37\\lib\\site-packages\\ipykernel_launcher.py:6: UserWarning: To copy construct from a tensor, it is recommended to use sourceTensor.clone().detach() or sourceTensor.clone().detach().requires_grad_(True), rather than torch.tensor(sourceTensor).\n",
      "  \n",
      "D:\\softwares\\Program Files\\Python37\\lib\\site-packages\\ipykernel_launcher.py:7: UserWarning: To copy construct from a tensor, it is recommended to use sourceTensor.clone().detach() or sourceTensor.clone().detach().requires_grad_(True), rather than torch.tensor(sourceTensor).\n",
      "  import sys\n",
      "D:\\softwares\\Program Files\\Python37\\lib\\site-packages\\ipykernel_launcher.py:8: UserWarning: To copy construct from a tensor, it is recommended to use sourceTensor.clone().detach() or sourceTensor.clone().detach().requires_grad_(True), rather than torch.tensor(sourceTensor).\n",
      "  \n"
     ]
    }
   ],
   "source": [
    "torch_x = torch.from_numpy(X_train)\n",
    "torch_y = torch.from_numpy(y_train)\n",
    "test_x = torch.from_numpy(X_test)\n",
    "test_y = torch.from_numpy(y_test)\n",
    "y_train = torch.tensor(torch_y, dtype=torch.long)\n",
    "y_test = torch.tensor(test_y,dtype = torch.long)\n",
    "x_test = torch.tensor(test_x , dtype=torch.float32)\n",
    "x_train = torch.tensor(torch_x, dtype=torch.float32)\n",
    "\n",
    "\n",
    "#x_train = torch.tensor(torch_x, dtype=torch.float32)\n",
    "\n",
    "#y_train = torch_y.reshape(torch_y.shape[0], 1)\n",
    "#x,y = Variable(x_train),Variable(y_train)\n"
   ]
  },
  {
   "cell_type": "code",
   "execution_count": 9,
   "metadata": {},
   "outputs": [
    {
     "name": "stdout",
     "output_type": "stream",
     "text": [
      "torch.Size([698, 1200]) torch.Size([373, 1200])\n"
     ]
    }
   ],
   "source": [
    "print(x_train.shape, x_test.shape)"
   ]
  },
  {
   "cell_type": "code",
   "execution_count": 10,
   "metadata": {},
   "outputs": [],
   "source": [
    "#Hyper parameters\n",
    "EPOCH = 50\n",
    "BATCH_SIZE = 50\n",
    "LR = 0.001\n"
   ]
  },
  {
   "cell_type": "code",
   "execution_count": 11,
   "metadata": {},
   "outputs": [],
   "source": [
    "x_test = x_test.reshape(x_test.shape[0], 20,60)\n",
    "x_train = x_train.reshape(x_train.shape[0], 20,60)\n",
    "torch_dataset = Data.TensorDataset(x_train,y_train )\n",
    "train_loader = Data.DataLoader(dataset= torch_dataset, batch_size=BATCH_SIZE, shuffle=True,num_workers=2)\n"
   ]
  },
  {
   "cell_type": "code",
   "execution_count": null,
   "metadata": {},
   "outputs": [],
   "source": []
  },
  {
   "cell_type": "code",
   "execution_count": 12,
   "metadata": {},
   "outputs": [],
   "source": [
    "#print(x_train, x_test)"
   ]
  },
  {
   "cell_type": "code",
   "execution_count": 13,
   "metadata": {},
   "outputs": [],
   "source": [
    "class CNN(nn.Module):\n",
    "    def __init__(self):\n",
    "        super(CNN, self).__init__()\n",
    "        self.conv1 = nn.Sequential(         # input shape (1, 28, 28)\n",
    "            nn.Conv1d(\n",
    "                in_channels=20,              # input height\n",
    "                out_channels=16,            # n_filters\n",
    "                kernel_size=5,              # filter size\n",
    "                stride=1,                   # filter movement/step\n",
    "                                            # if want same width and length of this image after con2d, padding=(kernel_size-1)/2 if stride=1\n",
    "            ),                              # output shape (16, 28, 28)\n",
    "            nn.ReLU(),                      # activation\n",
    "            nn.MaxPool1d(kernel_size=2),    # choose max value in 2x2 area, output shape (16, 14, 14)\n",
    "        )\n",
    "        self.conv2 = nn.Sequential(         # input shape (1, 28, 28)\n",
    "            nn.Conv1d(16, 32, 5, 1),     # output shape (32, 14, 14)\n",
    "            nn.ReLU(),                      # activation\n",
    "            nn.MaxPool1d(2),                # output shape (32, 7, 7)\n",
    "        )\n",
    "\n",
    "        self.out = nn.Linear(32 * 12, 8)   # fully connected layer, output 10 classes\n",
    "\n",
    "    def forward(self, x):\n",
    "        x = self.conv1(x)\n",
    "        x = self.conv2(x)\n",
    "        \n",
    "        \n",
    "        x = x.view(x.size(0), -1)           # flatten the output of conv2 to (batch_size, 32 * 7 * 7)\n",
    "        output = self.out(x)\n",
    "        return output, x    # return x for visualization"
   ]
  },
  {
   "cell_type": "code",
   "execution_count": 14,
   "metadata": {},
   "outputs": [],
   "source": [
    "cnn = CNN()\n",
    "optimizer = torch.optim.Adam(cnn.parameters(), lr = LR)\n",
    "loss_func = torch.nn.CrossEntropyLoss()"
   ]
  },
  {
   "cell_type": "code",
   "execution_count": 15,
   "metadata": {
    "scrolled": true
   },
   "outputs": [
    {
     "name": "stdout",
     "output_type": "stream",
     "text": [
      "epoch:0loss:tensor(2.0851, grad_fn=<NllLossBackward>)|train accuracy:0.14326647564469913\n",
      "|test accuracy:0.0\n",
      "epoch:1loss:tensor(2.0497, grad_fn=<NllLossBackward>)|train accuracy:0.1876790830945559\n",
      "|test accuracy:1.0\n",
      "epoch:2loss:tensor(1.9719, grad_fn=<NllLossBackward>)|train accuracy:0.40974212034383956\n",
      "|test accuracy:1.0\n",
      "epoch:3loss:tensor(1.8774, grad_fn=<NllLossBackward>)|train accuracy:0.497134670487106\n",
      "|test accuracy:1.0\n",
      "epoch:4loss:tensor(1.5651, grad_fn=<NllLossBackward>)|train accuracy:0.5100286532951289\n",
      "|test accuracy:0.981875\n",
      "epoch:5loss:tensor(1.3057, grad_fn=<NllLossBackward>)|train accuracy:0.5530085959885387\n",
      "|test accuracy:0.8798863636363636\n",
      "epoch:6loss:tensor(0.9561, grad_fn=<NllLossBackward>)|train accuracy:0.7048710601719198\n",
      "|test accuracy:0.6114583333333332\n",
      "epoch:7loss:tensor(0.9544, grad_fn=<NllLossBackward>)|train accuracy:0.7020057306590258\n",
      "|test accuracy:0.7948484848484849\n",
      "epoch:8loss:tensor(0.9713, grad_fn=<NllLossBackward>)|train accuracy:0.6876790830945558\n",
      "|test accuracy:0.8980113636363638\n",
      "epoch:9loss:tensor(0.7345, grad_fn=<NllLossBackward>)|train accuracy:0.7435530085959885\n",
      "|test accuracy:0.7510227272727273\n",
      "epoch:10loss:tensor(0.8377, grad_fn=<NllLossBackward>)|train accuracy:0.7478510028653295\n",
      "|test accuracy:0.7291098484848485\n",
      "epoch:11loss:tensor(0.7207, grad_fn=<NllLossBackward>)|train accuracy:0.7564469914040115\n",
      "|test accuracy:0.7291098484848485\n",
      "epoch:12loss:tensor(0.6845, grad_fn=<NllLossBackward>)|train accuracy:0.7650429799426934\n",
      "|test accuracy:0.6921969696969696\n",
      "epoch:13loss:tensor(0.7581, grad_fn=<NllLossBackward>)|train accuracy:0.8094555873925502\n",
      "|test accuracy:0.7579356060606061\n",
      "epoch:14loss:tensor(0.5744, grad_fn=<NllLossBackward>)|train accuracy:0.8094555873925502\n",
      "|test accuracy:0.7948484848484849\n",
      "epoch:15loss:tensor(0.6121, grad_fn=<NllLossBackward>)|train accuracy:0.8037249283667621\n",
      "|test accuracy:0.8536742424242424\n",
      "epoch:16loss:tensor(0.5553, grad_fn=<NllLossBackward>)|train accuracy:0.8008595988538681\n",
      "|test accuracy:0.941837121212121\n",
      "epoch:17loss:tensor(0.6179, grad_fn=<NllLossBackward>)|train accuracy:0.7922636103151862\n",
      "|test accuracy:0.9380492424242424\n",
      "epoch:18loss:tensor(0.5568, grad_fn=<NllLossBackward>)|train accuracy:0.7879656160458453\n",
      "|test accuracy:0.8980113636363638\n",
      "epoch:19loss:tensor(0.5637, grad_fn=<NllLossBackward>)|train accuracy:0.7836676217765043\n",
      "|test accuracy:0.8091856060606061\n",
      "epoch:20loss:tensor(0.6801, grad_fn=<NllLossBackward>)|train accuracy:0.7808022922636103\n",
      "|test accuracy:0.8091856060606061\n",
      "epoch:21loss:tensor(0.6635, grad_fn=<NllLossBackward>)|train accuracy:0.7936962750716332\n",
      "|test accuracy:0.8091856060606061\n",
      "epoch:22loss:tensor(0.6900, grad_fn=<NllLossBackward>)|train accuracy:0.8151862464183381\n",
      "|test accuracy:0.839185606060606\n",
      "epoch:23loss:tensor(0.5971, grad_fn=<NllLossBackward>)|train accuracy:0.832378223495702\n",
      "|test accuracy:0.9199242424242424\n",
      "epoch:24loss:tensor(0.5722, grad_fn=<NllLossBackward>)|train accuracy:0.830945558739255\n",
      "|test accuracy:0.8317613636363638\n",
      "epoch:25loss:tensor(0.6848, grad_fn=<NllLossBackward>)|train accuracy:0.833810888252149\n",
      "|test accuracy:0.8098484848484848\n",
      "epoch:26loss:tensor(0.4987, grad_fn=<NllLossBackward>)|train accuracy:0.8495702005730659\n",
      "|test accuracy:0.7948484848484849\n",
      "epoch:27loss:tensor(0.4724, grad_fn=<NllLossBackward>)|train accuracy:0.8595988538681948\n",
      "|test accuracy:0.7948484848484849\n",
      "epoch:28loss:tensor(0.8058, grad_fn=<NllLossBackward>)|train accuracy:0.8538681948424068\n",
      "|test accuracy:0.7729356060606061\n",
      "epoch:29loss:tensor(0.4666, grad_fn=<NllLossBackward>)|train accuracy:0.8595988538681948\n",
      "|test accuracy:0.6991098484848485\n",
      "epoch:30loss:tensor(0.4895, grad_fn=<NllLossBackward>)|train accuracy:0.829512893982808\n",
      "|test accuracy:0.8867992424242425\n",
      "epoch:31loss:tensor(0.4433, grad_fn=<NllLossBackward>)|train accuracy:0.8209169054441261\n",
      "|test accuracy:0.9049242424242426\n",
      "epoch:32loss:tensor(0.5184, grad_fn=<NllLossBackward>)|train accuracy:0.8094555873925502\n",
      "|test accuracy:0.9199242424242424\n",
      "epoch:33loss:tensor(0.4725, grad_fn=<NllLossBackward>)|train accuracy:0.8008595988538681\n",
      "|test accuracy:0.9599621212121212\n",
      "epoch:34loss:tensor(0.5418, grad_fn=<NllLossBackward>)|train accuracy:0.7979942693409742\n",
      "|test accuracy:0.9380492424242424\n",
      "epoch:35loss:tensor(0.6504, grad_fn=<NllLossBackward>)|train accuracy:0.7965616045845272\n",
      "|test accuracy:0.9380492424242424\n",
      "epoch:36loss:tensor(0.5459, grad_fn=<NllLossBackward>)|train accuracy:0.8108882521489972\n",
      "|test accuracy:0.8723106060606061\n",
      "epoch:37loss:tensor(0.5330, grad_fn=<NllLossBackward>)|train accuracy:0.8180515759312321\n",
      "|test accuracy:0.8210606060606062\n",
      "epoch:38loss:tensor(0.4866, grad_fn=<NllLossBackward>)|train accuracy:0.8252148997134671\n",
      "|test accuracy:0.8210606060606062\n",
      "epoch:39loss:tensor(0.5197, grad_fn=<NllLossBackward>)|train accuracy:0.83810888252149\n",
      "|test accuracy:0.7841477272727273\n",
      "epoch:40loss:tensor(0.4733, grad_fn=<NllLossBackward>)|train accuracy:0.8481375358166189\n",
      "|test accuracy:0.8498863636363636\n",
      "epoch:41loss:tensor(0.5491, grad_fn=<NllLossBackward>)|train accuracy:0.8553008595988538\n",
      "|test accuracy:0.8498863636363636\n",
      "epoch:42loss:tensor(0.4460, grad_fn=<NllLossBackward>)|train accuracy:0.8638968481375359\n",
      "|test accuracy:0.8648863636363637\n",
      "epoch:43loss:tensor(0.5989, grad_fn=<NllLossBackward>)|train accuracy:0.8581661891117478\n",
      "|test accuracy:0.9268371212121213\n",
      "epoch:44loss:tensor(0.5183, grad_fn=<NllLossBackward>)|train accuracy:0.8553008595988538\n",
      "|test accuracy:0.9487499999999998\n",
      "epoch:45loss:tensor(0.5805, grad_fn=<NllLossBackward>)|train accuracy:0.8538681948424068\n",
      "|test accuracy:0.9487499999999998\n",
      "epoch:46loss:tensor(0.5194, grad_fn=<NllLossBackward>)|train accuracy:0.8567335243553008\n",
      "|test accuracy:0.9487499999999998\n",
      "epoch:47loss:tensor(0.4845, grad_fn=<NllLossBackward>)|train accuracy:0.8796561604584527\n",
      "|test accuracy:0.9668749999999999\n",
      "epoch:48loss:tensor(0.4229, grad_fn=<NllLossBackward>)|train accuracy:0.8939828080229226\n",
      "|test accuracy:0.9087121212121214\n",
      "epoch:49loss:tensor(0.3750, grad_fn=<NllLossBackward>)|train accuracy:0.8925501432664756\n",
      "|test accuracy:0.9087121212121214\n"
     ]
    }
   ],
   "source": [
    "ACC = []\n",
    "Loss_CNN = []\n",
    "Times = []\n",
    "times = 0\n",
    "for epoch in range(EPOCH):\n",
    "    for step, (x, y) in enumerate(train_loader):   # gives batch data, normalize x when iterate train_loader\n",
    "        b_x = Variable(x)   # batch x\n",
    "        b_y = Variable(y)   # batch y\n",
    "\n",
    "        output = cnn(b_x)[0]               # cnn output\n",
    "        loss = loss_func(output, b_y)   # cross entropy loss\n",
    "        optimizer.zero_grad()           # clear gradients for this training step\n",
    "        loss.backward()                 # backpropagation, compute gradients\n",
    "        optimizer.step()                # apply gradients\n",
    "        Loss_CNN.append(loss.data)\n",
    "        times += 1\n",
    "        Times.append(times)\n",
    "        #print(times)\n",
    "\n",
    "        if step % 50 == 0:\n",
    "            train_output, last_layer = cnn(x_train)\n",
    "            pred_y = torch.max(train_output, 1)[1].data.squeeze()\n",
    "            accuracy = (pred_y == y_train).sum().item() / float(y_train.size(0))\n",
    "            print('epoch:'+ str(epoch) + 'loss:'+ str(loss)+'|train accuracy:' + str(accuracy) )\n",
    "        \n",
    "        test_output, last_layer = cnn(x_test)\n",
    "        pred_y = torch.max(test_output, 1)[1].data.squeeze()\n",
    "        test_output, last_layer = cnn(x_test)\n",
    "        #pred_y = torch.max(test_output, 1)[1].data.squeeze()\n",
    "        \n",
    "        #print(y_test[100])\n",
    "        num = [50,50,50,33,40,50,50,50]\n",
    "        \n",
    "        acc_list = []\n",
    "        \n",
    "        #y_test = y_test.numpy()\n",
    "        #print(y_test[0:50])\n",
    "        pred_y = pred_y.numpy()\n",
    "        #print(pred_y[0:50])\n",
    "        for i in num:\n",
    "            round_ = 0\n",
    "            times_ = 0\n",
    "            for j in range(i):\n",
    "                \n",
    "                if pred_y[round_ + j] == y_test[round_ + j]:\n",
    "                    times_ += 1\n",
    "            #print(times)\n",
    "            acc_list.append( times_ / i  )\n",
    "            \n",
    "            round_ += i\n",
    "        \n",
    "        #print(acc_list)\n",
    "        final = 0\n",
    "        \n",
    "        for i in acc_list:\n",
    "            final += i\n",
    "        final = final / 8\n",
    "        \n",
    "        #print(final)\n",
    "        #accuracy = (pred_y == y_test).sum().item() / float(y_test.size(0))\n",
    "        ACC.append(final)\n",
    "        if step % 50 == 0:\n",
    "            print('|test accuracy:' + str(final))\n",
    "            \n",
    "        if final > 0.7 and accuracy> 0.7:\n",
    "            break\n",
    "\n",
    "\n",
    "            \n",
    "            \n",
    "            \n",
    "            \n",
    "    "
   ]
  },
  {
   "cell_type": "code",
   "execution_count": 16,
   "metadata": {},
   "outputs": [
    {
     "data": {
      "image/png": "[encoded data removed]",
      "text/plain": [
       "<Figure size 432x288 with 1 Axes>"
      ]
     },
     "metadata": {
      "needs_background": "light"
     },
     "output_type": "display_data"
    }
   ],
   "source": [
    "#print(Times)\n",
    "#print()\n",
    "plt.plot(Times,Loss_CNN)\n",
    "plt.show()\n",
    "#np.save('Loss_CNNfull.npy',Loss_CNN)\n",
    "#np.save('acc_CNNfull.npy',ACC)"
   ]
  },
  {
   "cell_type": "code",
   "execution_count": 17,
   "metadata": {},
   "outputs": [
    {
     "name": "stdout",
     "output_type": "stream",
     "text": [
      "tensor(2)\n",
      "tensor([0, 0, 0, 0, 0, 0, 0, 0, 0, 0, 0, 0, 0, 0, 0, 0, 0, 0, 0, 0, 0, 0, 0, 0,\n",
      "        0, 0, 0, 0, 0, 0, 0, 0, 0, 0, 0, 0, 0, 0, 0, 0, 0, 0, 0, 0, 0, 0, 0, 0,\n",
      "        0, 0])\n",
      "[0 0 0 0 0 0 0 0 0 0 0 0 0 0 0 0 0 0 0 0 0 0 0 0 0 0 0 0 0 7 0 0 0 0 5 0 3\n",
      " 5 0 0 0 0 0 0 0 0 5 0 0 0]\n",
      "45\n",
      "45\n",
      "45\n",
      "32\n",
      "36\n",
      "45\n",
      "45\n",
      "45\n",
      "[0.9, 0.9, 0.9, 0.9696969696969697, 0.9, 0.9, 0.9, 0.9]\n",
      "0.9087121212121214\n"
     ]
    }
   ],
   "source": [
    "#datab0\n",
    "test_output, last_layer = cnn(x_test)\n",
    "pred_y = torch.max(test_output, 1)[1].data.squeeze()\n",
    "\n",
    "print(y_test[100])\n",
    "num = [50,50,50,33,40,50,50,50]\n",
    "\n",
    "acc_list = []\n",
    "\n",
    "#y_test = y_test.numpy()\n",
    "print(y_test[0:50])\n",
    "pred_y = pred_y.numpy()\n",
    "print(pred_y[0:50])\n",
    "for i in num:\n",
    "    round_ = 0\n",
    "    times = 0\n",
    "    for j in range(i):\n",
    "        \n",
    "        if pred_y[round_ + j] == y_test[round_ + j]:\n",
    "            times += 1\n",
    "    print(times)\n",
    "    acc_list.append( times / i  )\n",
    "    \n",
    "    round_ += i\n",
    "\n",
    "print(acc_list)\n",
    "final = 0\n",
    "\n",
    "for i in acc_list:\n",
    "    final += i\n",
    "final = final / 8\n",
    "\n",
    "print(final)"
   ]
  },
  {
   "cell_type": "code",
   "execution_count": 107,
   "metadata": {},
   "outputs": [
    {
     "name": "stdout",
     "output_type": "stream",
     "text": [
      "tensor(2)\n",
      "tensor([0, 0, 0, 0, 0, 0, 0, 0, 0, 0, 0, 0, 0, 0, 0, 0, 0, 0, 0, 0, 0, 0, 0, 0,\n",
      "        0, 0, 0, 0, 0, 0, 0, 0, 0, 0, 0, 0, 0, 0, 0, 0, 0, 0, 0, 0, 0, 0, 0, 0,\n",
      "        0, 0])\n",
      "[0 0 0 0 5 0 5 0 0 0 0 0 0 0 0 0 0 0 0 0 0 0 0 5 0 0 0 0 0 0 0 0 0 0 0 0 0\n",
      " 5 0 0 0 0 0 0 0 0 0 0 0 0]\n",
      "46\n",
      "46\n",
      "46\n",
      "30\n",
      "36\n",
      "46\n",
      "46\n",
      "46\n",
      "[0.92, 0.92, 0.92, 0.9090909090909091, 0.9, 0.92, 0.92, 0.92]\n",
      "0.9161363636363636\n"
     ]
    }
   ],
   "source": [
    "#datab1\n",
    "test_output, last_layer = cnn(x_test)\n",
    "pred_y = torch.max(test_output, 1)[1].data.squeeze()\n",
    "\n",
    "print(y_test[100])\n",
    "num = [50,50,50,33,40,50,50,50]\n",
    "\n",
    "acc_list = []\n",
    "\n",
    "#y_test = y_test.numpy()\n",
    "print(y_test[0:50])\n",
    "pred_y = pred_y.numpy()\n",
    "print(pred_y[0:50])\n",
    "for i in num:\n",
    "    round_ = 0\n",
    "    times = 0\n",
    "    for j in range(i):\n",
    "        \n",
    "        if pred_y[round_ + j] == y_test[round_ + j]:\n",
    "            times += 1\n",
    "    print(times)\n",
    "    acc_list.append( times / i  )\n",
    "    \n",
    "    round_ += i\n",
    "\n",
    "print(acc_list)\n",
    "final = 0\n",
    "\n",
    "for i in acc_list:\n",
    "    final += i\n",
    "final = final / 8\n",
    "\n",
    "print(final)"
   ]
  },
  {
   "cell_type": "code",
   "execution_count": 30,
   "metadata": {},
   "outputs": [
    {
     "name": "stdout",
     "output_type": "stream",
     "text": [
      "tensor(2)\n",
      "tensor([0, 0, 0, 0, 0, 0, 0, 0, 0, 0, 0, 0, 0, 0, 0, 0, 0, 0, 0, 0, 0, 0, 0, 0,\n",
      "        0, 0, 0, 0, 0, 0, 0, 0, 0, 0, 0, 0, 0, 0, 0, 0, 0, 0, 0, 0, 0, 0, 0, 0,\n",
      "        0, 0])\n",
      "[0 0 0 0 0 0 0 0 0 0 0 0 0 0 0 0 0 0 0 0 0 0 0 0 0 0 0 0 0 0 4 7 7 0 7 7 7\n",
      " 0 6 0 0 0 0 0 0 0 0 0 0 0]\n",
      "43\n",
      "43\n",
      "43\n",
      "30\n",
      "33\n",
      "43\n",
      "43\n",
      "43\n",
      "[0.86, 0.86, 0.86, 0.9090909090909091, 0.825, 0.86, 0.86, 0.86]\n",
      "0.8617613636363638\n"
     ]
    }
   ],
   "source": [
    "#datab2\n",
    "test_output, last_layer = cnn(x_test)\n",
    "pred_y = torch.max(test_output, 1)[1].data.squeeze()\n",
    "\n",
    "print(y_test[100])\n",
    "num = [50,50,50,33,40,50,50,50]\n",
    "\n",
    "acc_list = []\n",
    "\n",
    "#y_test = y_test.numpy()\n",
    "print(y_test[0:50])\n",
    "pred_y = pred_y.numpy()\n",
    "print(pred_y[0:50])\n",
    "for i in num:\n",
    "    round_ = 0\n",
    "    times = 0\n",
    "    for j in range(i):\n",
    "        \n",
    "        if pred_y[round_ + j] == y_test[round_ + j]:\n",
    "            times += 1\n",
    "    print(times)\n",
    "    acc_list.append( times / i  )\n",
    "    \n",
    "    round_ += i\n",
    "\n",
    "print(acc_list)\n",
    "final = 0\n",
    "\n",
    "for i in acc_list:\n",
    "    final += i\n",
    "final = final / 8\n",
    "\n",
    "print(final)\n",
    "    "
   ]
  },
  {
   "cell_type": "code",
   "execution_count": 18,
   "metadata": {},
   "outputs": [
    {
     "data": {
      "text/plain": [
       "0.8955000000000001"
      ]
     },
     "execution_count": 18,
     "metadata": {},
     "output_type": "execute_result"
    }
   ],
   "source": [
    "mean_acc = (0.8617+0.9161+0.9087)/3\n",
    "mean_acc "
   ]
  },
  {
   "cell_type": "code",
   "execution_count": null,
   "metadata": {},
   "outputs": [],
   "source": []
  },
  {
   "cell_type": "code",
   "execution_count": 101,
   "metadata": {},
   "outputs": [
    {
     "name": "stdout",
     "output_type": "stream",
     "text": [
      "tensor([7, 0, 0, 6, 1, 5, 1, 2, 6, 2, 5, 0, 2, 1, 2, 6, 0, 5, 7, 2, 0, 2, 1, 5,\n",
      "        5, 2, 5, 3, 3, 7, 0, 2, 0, 7, 6, 2, 1, 0, 2, 2, 5, 6, 0, 4, 2, 2, 1, 1,\n",
      "        0, 0, 7, 2, 6, 4, 5, 7, 1, 0, 7, 1, 2, 6, 1, 0, 4, 1, 5, 7, 4, 1, 1, 3,\n",
      "        6, 6, 7, 3, 1, 1, 7, 0, 1, 6, 0, 2, 2, 7, 7, 6, 2, 2, 7, 1, 2, 6, 4, 5,\n",
      "        2, 0, 5, 0, 4, 7, 7, 5, 2, 7, 5, 7, 6, 7, 5, 2])\n"
     ]
    }
   ],
   "source": [
    "print(y_test)"
   ]
  },
  {
   "cell_type": "code",
   "execution_count": 87,
   "metadata": {},
   "outputs": [],
   "source": [
    "from sklearn.metrics import confusion_matrix\n",
    "from sklearn.metrics import recall_score\n",
    "import matplotlib.pyplot as plt"
   ]
  },
  {
   "cell_type": "code",
   "execution_count": 88,
   "metadata": {},
   "outputs": [],
   "source": [
    "#print(pred_y.numpy(),y_test)"
   ]
  },
  {
   "cell_type": "code",
   "execution_count": 89,
   "metadata": {},
   "outputs": [
    {
     "data": {
      "image/png": "[encoded data removed]",
      "text/plain": [
       "<Figure size 432x288 with 2 Axes>"
      ]
     },
     "metadata": {
      "needs_background": "light"
     },
     "output_type": "display_data"
    }
   ],
   "source": [
    "# 预测数据，predict之后的预测结果集\n",
    "guess = pred_y.numpy()\n",
    "# 真实结果集\n",
    "fact = y_test.numpy()\n",
    "# 类别\n",
    "classes = list(set(fact))\n",
    "# 排序，准确对上分类结果\n",
    "classes.sort()\n",
    "# 对比，得到混淆矩阵\n",
    "confusion = confusion_matrix(guess, fact)\n",
    "# 热度图，后面是指定的颜色块，gray也可以，gray_x反色也可以\n",
    "plt.imshow(confusion, cmap=plt.cm.Blues)\n",
    "# 这个东西就要注意了\n",
    "# ticks 这个是坐标轴上的坐标点\n",
    "# label 这个是坐标轴的注释说明\n",
    "indices = range(len(confusion))\n",
    "# 坐标位置放入\n",
    "# 第一个是迭代对象，表示坐标的顺序\n",
    "# 第二个是坐标显示的数值的数组，第一个表示的其实就是坐标显示数字数组的index，但是记住必须是迭代对象\n",
    "plt.xticks(indices, classes)\n",
    "plt.yticks(indices, classes)\n",
    "# 热度显示仪？就是旁边的那个验孕棒啦\n",
    "plt.colorbar()\n",
    "# 就是坐标轴含义说明了\n",
    "plt.xlabel('predict_label')\n",
    "plt.ylabel('real_label')\n",
    "# 显示数据，直观些\n",
    "for first_index in range(len(confusion)):\n",
    "    for second_index in range(len(confusion[first_index])):\n",
    "        plt.text(first_index, second_index, confusion[first_index][second_index])\n",
    "plt.title('accuracy: 0.9673  recall_score: 0.9626')\n",
    "#plt.savefig('CNNfull_results.tif', dpi = 400)\n",
    "plt.show()\n"
   ]
  },
  {
   "cell_type": "code",
   "execution_count": 15,
   "metadata": {},
   "outputs": [
    {
     "name": "stdout",
     "output_type": "stream",
     "text": [
      "0.9678362573099415 0.9626399744046803\n"
     ]
    }
   ],
   "source": [
    "from sklearn.metrics import accuracy_score\n",
    "from sklearn.metrics import recall_score\n",
    "print(accuracy_score(fact,guess),recall_score(fact, guess,average='macro'))"
   ]
  },
  {
   "cell_type": "code",
   "execution_count": null,
   "metadata": {},
   "outputs": [],
   "source": []
  },
  {
   "cell_type": "code",
   "execution_count": null,
   "metadata": {},
   "outputs": [],
   "source": []
  },
  {
   "cell_type": "code",
   "execution_count": null,
   "metadata": {},
   "outputs": [],
   "source": []
  },
  {
   "cell_type": "code",
   "execution_count": null,
   "metadata": {},
   "outputs": [],
   "source": []
  },
  {
   "cell_type": "code",
   "execution_count": null,
   "metadata": {},
   "outputs": [],
   "source": []
  }
 ],
 "metadata": {
  "kernelspec": {
   "display_name": "Python 3",
   "language": "python",
   "name": "python3"
  },
  "language_info": {
   "codemirror_mode": {
    "name": "ipython",
    "version": 3
   },
   "file_extension": ".py",
   "mimetype": "text/x-python",
   "name": "python",
   "nbconvert_exporter": "python",
   "pygments_lexer": "ipython3",
   "version": "3.7.1"
  }
 },
 "nbformat": 4,
 "nbformat_minor": 4
}
