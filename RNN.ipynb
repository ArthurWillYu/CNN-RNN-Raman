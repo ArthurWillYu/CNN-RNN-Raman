{
 "cells": [
  {
   "cell_type": "code",
   "execution_count": 47,
   "metadata": {},
   "outputs": [],
   "source": [
    "import numpy as np\n",
    "import csv\n",
    "import pandas as pd\n",
    "import torch\n",
    "from torch.autograd import Variable\n",
    "import torch.nn.functional as F\n",
    "import matplotlib.pyplot as plt\n",
    "import torch.nn as nn\n",
    "import torch.utils.data as Data\n",
    "import torchvision"
   ]
  },
  {
   "cell_type": "code",
   "execution_count": 48,
   "metadata": {},
   "outputs": [],
   "source": [
    "from sklearn.model_selection import train_test_split\n",
    " #首先，读取.CSV文件成矩阵的形式。\n",
    "my_matrix = np.loadtxt(open(\"results.csv\"),delimiter=\",\",skiprows=0)\n",
    "#print(my_matrix)\n",
    " #对于矩阵而言，将矩阵倒数第一列之前的数值给了X（输入数据），将矩阵大最后一列的数值给了y（标签）\n",
    "X, y = my_matrix[:,:-1],my_matrix[:,-1]\n",
    " #利用train_test_split方法，将X,y随机划分问，训练集（X_train），训练集标签（X_test），测试卷（y_train），\n",
    " #测试集标签（y_test），安训练集：测试集=7:3的\n",
    " #概率划分，到此步骤，可以直接对数据进行处理\n",
    "X_train, X_test, y_train, y_test = train_test_split(X, y, test_size=0.3, random_state=None)\n",
    " #此步骤，是为了将训练集与数据集的数据分别保存为CSV文件\n",
    " #np.column_stack将两个矩阵进行组合连接\n",
    "train= np.column_stack((X_train,y_train))\n",
    " #numpy.savetxt 将txt文件保存为.csv结尾的文件\n",
    "np.savetxt('train_usual.csv',train, delimiter = ',')\n",
    "test = np.column_stack((X_test, y_test))\n",
    "np.savetxt('test_usual.csv', test, delimiter = ',')"
   ]
  },
  {
   "cell_type": "code",
   "execution_count": 49,
   "metadata": {
    "scrolled": true
   },
   "outputs": [
    {
     "name": "stderr",
     "output_type": "stream",
     "text": [
      "/home/ysx/miniconda3/lib/python3.6/site-packages/ipykernel_launcher.py:5: UserWarning: To copy construct from a tensor, it is recommended to use sourceTensor.clone().detach() or sourceTensor.clone().detach().requires_grad_(True), rather than torch.tensor(sourceTensor).\n",
      "  \"\"\"\n",
      "/home/ysx/miniconda3/lib/python3.6/site-packages/ipykernel_launcher.py:6: UserWarning: To copy construct from a tensor, it is recommended to use sourceTensor.clone().detach() or sourceTensor.clone().detach().requires_grad_(True), rather than torch.tensor(sourceTensor).\n",
      "  \n",
      "/home/ysx/miniconda3/lib/python3.6/site-packages/ipykernel_launcher.py:7: UserWarning: To copy construct from a tensor, it is recommended to use sourceTensor.clone().detach() or sourceTensor.clone().detach().requires_grad_(True), rather than torch.tensor(sourceTensor).\n",
      "  import sys\n",
      "/home/ysx/miniconda3/lib/python3.6/site-packages/ipykernel_launcher.py:8: UserWarning: To copy construct from a tensor, it is recommended to use sourceTensor.clone().detach() or sourceTensor.clone().detach().requires_grad_(True), rather than torch.tensor(sourceTensor).\n",
      "  \n"
     ]
    }
   ],
   "source": [
    "torch_x = torch.from_numpy(X_train)\n",
    "torch_y = torch.from_numpy(y_train)\n",
    "test_x = torch.from_numpy(X_test)\n",
    "test_y = torch.from_numpy(y_test)\n",
    "y_train = torch.tensor(torch_y, dtype=torch.long)\n",
    "y_test = torch.tensor(test_y,dtype = torch.long)\n",
    "x_test = torch.tensor(test_x , dtype=torch.float32)\n",
    "x_train = torch.tensor(torch_x, dtype=torch.float32)\n",
    "\n"
   ]
  },
  {
   "cell_type": "code",
   "execution_count": 121,
   "metadata": {},
   "outputs": [],
   "source": [
    "#Hyper parameters\n",
    "EPOCH = 20\n",
    "BATCH_SIZE = 50\n",
    "TIME_STEP = 20\n",
    "INPUT_SIZE = 60\n",
    "LR = 0.01"
   ]
  },
  {
   "cell_type": "code",
   "execution_count": 122,
   "metadata": {},
   "outputs": [],
   "source": [
    "x_test = x_test.reshape(x_test.shape[0], TIME_STEP, INPUT_SIZE)\n",
    "x_train = x_train.reshape(x_train.shape[0], TIME_STEP, INPUT_SIZE)\n",
    "#print(x_train.shape,x_test.shape)\n",
    "torch_dataset = Data.TensorDataset(x_train,y_train )\n",
    "train_loader = Data.DataLoader(dataset= torch_dataset, batch_size=BATCH_SIZE, shuffle=True,num_workers=2)\n",
    "#print(x_train,x_test)"
   ]
  },
  {
   "cell_type": "code",
   "execution_count": 123,
   "metadata": {},
   "outputs": [],
   "source": [
    "class RNN(nn.Module):\n",
    "    def __init__(self):\n",
    "        super(RNN, self).__init__()\n",
    "\n",
    "        self.rnn = nn.LSTM(         # if use nn.RNN(), it hardly learns\n",
    "            input_size=INPUT_SIZE,\n",
    "            hidden_size=64,         # rnn hidden unit\n",
    "            num_layers=3,           # number of rnn layer\n",
    "            batch_first=True,       # input & output will has batch size as 1s dimension. e.g. (batch, time_step, input_size)\n",
    "        )\n",
    "\n",
    "        self.out = nn.Linear(64, 8)\n",
    "\n",
    "    def forward(self, x):\n",
    "        # x shape (batch, time_step, input_size)\n",
    "        # r_out shape (batch, time_step, output_size)\n",
    "        # h_n shape (n_layers, batch, hidden_size)\n",
    "        # h_c shape (n_layers, batch, hidden_size)\n",
    "        r_out, (h_n, h_c) = self.rnn(x, None)   # None represents zero initial hidden state\n",
    "\n",
    "        # choose r_out at the last time step\n",
    "        out = self.out(r_out[:, -1, :])\n",
    "        return out"
   ]
  },
  {
   "cell_type": "code",
   "execution_count": 124,
   "metadata": {},
   "outputs": [
    {
     "name": "stdout",
     "output_type": "stream",
     "text": [
      "RNN(\n",
      "  (rnn): LSTM(60, 64, num_layers=3, batch_first=True)\n",
      "  (out): Linear(in_features=64, out_features=8, bias=True)\n",
      ")\n"
     ]
    }
   ],
   "source": [
    "rnn =  RNN()\n",
    "print(rnn)\n",
    "optimizer = torch.optim.Adam(rnn.parameters(), lr = LR)\n",
    "loss_func = torch.nn.CrossEntropyLoss()"
   ]
  },
  {
   "cell_type": "code",
   "execution_count": 125,
   "metadata": {},
   "outputs": [
    {
     "name": "stdout",
     "output_type": "stream",
     "text": [
      "Epoch:  0 | train loss: 2.0791 | train accuracy: 0.23 | test accuracy: 0.21\n",
      "Epoch:  1 | train loss: 2.0559 | train accuracy: 0.13 | test accuracy: 0.13\n",
      "Epoch:  2 | train loss: 1.9696 | train accuracy: 0.17 | test accuracy: 0.15\n",
      "Epoch:  3 | train loss: 2.5240 | train accuracy: 0.37 | test accuracy: 0.38\n",
      "Epoch:  4 | train loss: 1.7265 | train accuracy: 0.42 | test accuracy: 0.45\n",
      "Epoch:  5 | train loss: 1.2009 | train accuracy: 0.60 | test accuracy: 0.58\n",
      "Epoch:  6 | train loss: 0.7511 | train accuracy: 0.67 | test accuracy: 0.67\n",
      "Epoch:  7 | train loss: 0.5548 | train accuracy: 0.79 | test accuracy: 0.78\n",
      "Epoch:  8 | train loss: 0.6626 | train accuracy: 0.85 | test accuracy: 0.78\n",
      "Epoch:  9 | train loss: 0.4428 | train accuracy: 0.84 | test accuracy: 0.82\n",
      "Epoch:  10 | train loss: 0.3202 | train accuracy: 0.87 | test accuracy: 0.85\n",
      "Epoch:  11 | train loss: 0.2346 | train accuracy: 0.89 | test accuracy: 0.87\n",
      "Epoch:  12 | train loss: 0.1853 | train accuracy: 0.95 | test accuracy: 0.92\n",
      "Epoch:  13 | train loss: 0.1398 | train accuracy: 0.94 | test accuracy: 0.94\n",
      "Epoch:  14 | train loss: 0.2536 | train accuracy: 0.94 | test accuracy: 0.90\n",
      "Epoch:  15 | train loss: 0.0686 | train accuracy: 0.97 | test accuracy: 0.94\n",
      "Epoch:  16 | train loss: 0.1137 | train accuracy: 0.93 | test accuracy: 0.92\n",
      "Epoch:  17 | train loss: 0.1968 | train accuracy: 0.96 | test accuracy: 0.90\n",
      "Epoch:  18 | train loss: 0.0558 | train accuracy: 0.96 | test accuracy: 0.95\n",
      "Epoch:  19 | train loss: 0.0407 | train accuracy: 0.96 | test accuracy: 0.96\n"
     ]
    }
   ],
   "source": [
    "Loss_RNN = []\n",
    "Times = []\n",
    "times = 0\n",
    "for epoch in range(EPOCH):\n",
    "    for step, (x, y) in enumerate(train_loader):   # gives batch data, normalize x when iterate train_loader\n",
    "        b_x = Variable(x.view(-1,TIME_STEP,INPUT_SIZE))   # batch x\n",
    "        b_y = Variable(y)   # batch y\n",
    "        \n",
    "        output = rnn(b_x)\n",
    "        loss = loss_func(output, b_y)\n",
    "        optimizer.zero_grad()\n",
    "        loss.backward()\n",
    "        optimizer.step()\n",
    "        Loss_RNN.append(loss.data)\n",
    "        times += 1\n",
    "        Times.append(times)\n",
    "        \n",
    "        if step % 50 == 0:\n",
    "            train_output = rnn(x_train)\n",
    "            pred_y = torch.max(train_output, 1)[1].data.squeeze()\n",
    "            train_accuracy = (pred_y == y_train).sum().item() / float(y_train.size(0))\n",
    "            test_output = rnn(x_test)                   # (samples, time_step, input_size)\n",
    "            pred_y = torch.max(test_output, 1)[1].data.squeeze()\n",
    "            test_accuracy = (pred_y == y_test).sum().item() / float(y_test.size(0))\n",
    "            print('Epoch: ', epoch, '| train loss: %.4f' % loss.data,'| train accuracy: %.2f' % train_accuracy, '| test accuracy: %.2f' % test_accuracy)\n",
    "        \n",
    "        \n",
    "        "
   ]
  },
  {
   "cell_type": "code",
   "execution_count": 131,
   "metadata": {},
   "outputs": [
    {
     "data": {
      "image/png": "[encoded data removed]",
      "text/plain": [
       "<Figure size 432x288 with 1 Axes>"
      ]
     },
     "metadata": {
      "needs_background": "light"
     },
     "output_type": "display_data"
    }
   ],
   "source": [
    "plt.plot(Times,Loss_RNN)\n",
    "plt.show()\n",
    "np.save('Loss_RNN.npy', Loss_RNN)"
   ]
  },
  {
   "cell_type": "code",
   "execution_count": 139,
   "metadata": {},
   "outputs": [
    {
     "data": {
      "image/png": "[encoded data removed]",
      "text/plain": [
       "<Figure size 432x288 with 1 Axes>"
      ]
     },
     "metadata": {
      "needs_background": "light"
     },
     "output_type": "display_data"
    }
   ],
   "source": [
    "Loss_CNN = np.load('Loss_CNN.npy')\n",
    "#print(Loss_CNN)\n",
    "plt.plot(Times,Loss_CNN,label = 'Loss_CNN')\n",
    "plt.plot(Times,Loss_RNN,label = 'Loss_RNN')\n",
    "plt.xlabel('training times')\n",
    "plt.ylabel('loss value')\n",
    "#plt.title('')\n",
    "plt.legend()\n",
    "plt.savefig('Loss.tif', dpi = 400)\n",
    "\n",
    "plt.show()\n"
   ]
  },
  {
   "cell_type": "code",
   "execution_count": 147,
   "metadata": {},
   "outputs": [],
   "source": [
    "from sklearn.metrics import confusion_matrix\n",
    "from sklearn.metrics import recall_score\n",
    "import matplotlib.pyplot as plt"
   ]
  },
  {
   "cell_type": "code",
   "execution_count": 148,
   "metadata": {},
   "outputs": [],
   "source": [
    "# 预测数据，predict之后的预测结果集\n",
    "guess = pred_y.numpy()\n",
    "# 真实结果集\n",
    "fact = y_test.numpy()\n",
    "# 类别\n",
    "classes = list(set(fact))\n",
    "# 排序，准确对上分类结果\n",
    "classes.sort()\n",
    "# 对比，得到混淆矩阵\n",
    "confusion = confusion_matrix(guess, fact)\n",
    "\n"
   ]
  },
  {
   "cell_type": "code",
   "execution_count": 149,
   "metadata": {},
   "outputs": [
    {
     "name": "stdout",
     "output_type": "stream",
     "text": [
      "0.9619883040935673 0.9618389469608981\n"
     ]
    }
   ],
   "source": [
    "from sklearn.metrics import accuracy_score\n",
    "from sklearn.metrics import recall_score\n",
    "print(accuracy_score(fact,guess),recall_score(fact, guess,average='macro'))"
   ]
  },
  {
   "cell_type": "code",
   "execution_count": 152,
   "metadata": {},
   "outputs": [],
   "source": [
    "acc = float(accuracy_score(fact,guess))\n",
    "recall = float(recall_score(fact, guess,average='macro'))\n"
   ]
  },
  {
   "cell_type": "code",
   "execution_count": 155,
   "metadata": {},
   "outputs": [
    {
     "data": {
      "image/png": "[encoded data removed]",
      "text/plain": [
       "<Figure size 432x288 with 2 Axes>"
      ]
     },
     "metadata": {
      "needs_background": "light"
     },
     "output_type": "display_data"
    }
   ],
   "source": [
    "# 热度图，后面是指定的颜色块，gray也可以，gray_x反色也可以\n",
    "plt.imshow(confusion, cmap=plt.cm.Blues)\n",
    "# 这个东西就要注意了\n",
    "# ticks 这个是坐标轴上的坐标点\n",
    "# label 这个是坐标轴的注释说明\n",
    "indices = range(len(confusion))\n",
    "# 坐标位置放入\n",
    "# 第一个是迭代对象，表示坐标的顺序\n",
    "# 第二个是坐标显示的数值的数组，第一个表示的其实就是坐标显示数字数组的index，但是记住必须是迭代对象\n",
    "plt.xticks(indices, classes)\n",
    "plt.yticks(indices, classes)\n",
    "# 热度显示仪？就是旁边的那个验孕棒啦\n",
    "plt.colorbar()\n",
    "# 就是坐标轴含义说明了\n",
    "plt.xlabel('predict_label')\n",
    "plt.ylabel('real_label')\n",
    "plt.title('accuracy: 0.9620  recall_score: 0.9618')\n",
    "# 显示数据，直观些\n",
    "for first_index in range(len(confusion)):\n",
    "    for second_index in range(len(confusion[first_index])):\n",
    "        plt.text(first_index, second_index, confusion[first_index][second_index])\n",
    "plt.savefig('RNN_results.tif', dpi = 400)\n",
    "plt.show()"
   ]
  },
  {
   "cell_type": "code",
   "execution_count": null,
   "metadata": {},
   "outputs": [],
   "source": []
  },
  {
   "cell_type": "code",
   "execution_count": null,
   "metadata": {},
   "outputs": [],
   "source": []
  },
  {
   "cell_type": "code",
   "execution_count": null,
   "metadata": {},
   "outputs": [],
   "source": []
  },
  {
   "cell_type": "code",
   "execution_count": null,
   "metadata": {},
   "outputs": [],
   "source": []
  },
  {
   "cell_type": "code",
   "execution_count": null,
   "metadata": {},
   "outputs": [],
   "source": []
  },
  {
   "cell_type": "code",
   "execution_count": null,
   "metadata": {},
   "outputs": [],
   "source": []
  },
  {
   "cell_type": "code",
   "execution_count": null,
   "metadata": {},
   "outputs": [],
   "source": []
  },
  {
   "cell_type": "code",
   "execution_count": null,
   "metadata": {},
   "outputs": [],
   "source": []
  },
  {
   "cell_type": "code",
   "execution_count": null,
   "metadata": {},
   "outputs": [],
   "source": []
  },
  {
   "cell_type": "code",
   "execution_count": null,
   "metadata": {},
   "outputs": [],
   "source": []
  },
  {
   "cell_type": "code",
   "execution_count": null,
   "metadata": {},
   "outputs": [],
   "source": []
  },
  {
   "cell_type": "code",
   "execution_count": null,
   "metadata": {},
   "outputs": [],
   "source": []
  }
 ],
 "metadata": {
  "kernelspec": {
   "display_name": "Python 3",
   "language": "python",
   "name": "python3"
  },
  "language_info": {
   "codemirror_mode": {
    "name": "ipython",
    "version": 3
   },
   "file_extension": ".py",
   "mimetype": "text/x-python",
   "name": "python",
   "nbconvert_exporter": "python",
   "pygments_lexer": "ipython3",
   "version": "3.6.11"
  }
 },
 "nbformat": 4,
 "nbformat_minor": 4
}
