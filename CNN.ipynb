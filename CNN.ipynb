{
 "cells": [
  {
   "cell_type": "code",
   "execution_count": 69,
   "metadata": {},
   "outputs": [],
   "source": [
    "import numpy as np\n",
    "import csv\n",
    "import pandas as pd\n",
    "import torch\n",
    "from torch.autograd import Variable\n",
    "import torch.nn.functional as F\n",
    "import matplotlib.pyplot as plt\n",
    "import torch.nn as nn\n",
    "import torch.utils.data as Data\n",
    "import torchvision"
   ]
  },
  {
   "cell_type": "code",
   "execution_count": 70,
   "metadata": {},
   "outputs": [],
   "source": [
    "from sklearn.model_selection import train_test_split\n",
    " #首先，读取.CSV文件成矩阵的形式。\n",
    "my_matrix = np.loadtxt(open(\"results.csv\"),delimiter=\",\",skiprows=0)\n",
    "#print(my_matrix)\n",
    " #对于矩阵而言，将矩阵倒数第一列之前的数值给了X（输入数据），将矩阵大最后一列的数值给了y（标签）\n",
    "X, y = my_matrix[:,:-1],my_matrix[:,-1]\n",
    " #利用train_test_split方法，将X,y随机划分问，训练集（X_train），训练集标签（X_test），测试卷（y_train），\n",
    " #测试集标签（y_test），安训练集：测试集=7:3的\n",
    " #概率划分，到此步骤，可以直接对数据进行处理\n",
    "X_train, X_test, y_train, y_test = train_test_split(X, y, test_size=0.3, random_state=42)\n",
    " #此步骤，是为了将训练集与数据集的数据分别保存为CSV文件\n",
    " #np.column_stack将两个矩阵进行组合连接\n",
    "train= np.column_stack((X_train,y_train))\n",
    " #numpy.savetxt 将txt文件保存为.csv结尾的文件\n",
    "np.savetxt('train_usual.csv',train, delimiter = ',')\n",
    "test = np.column_stack((X_test, y_test))\n",
    "np.savetxt('test_usual.csv', test, delimiter = ',')"
   ]
  },
  {
   "cell_type": "code",
   "execution_count": 71,
   "metadata": {},
   "outputs": [
    {
     "name": "stderr",
     "output_type": "stream",
     "text": [
      "/home/ysx/miniconda3/lib/python3.6/site-packages/ipykernel_launcher.py:5: UserWarning: To copy construct from a tensor, it is recommended to use sourceTensor.clone().detach() or sourceTensor.clone().detach().requires_grad_(True), rather than torch.tensor(sourceTensor).\n",
      "  \"\"\"\n",
      "/home/ysx/miniconda3/lib/python3.6/site-packages/ipykernel_launcher.py:6: UserWarning: To copy construct from a tensor, it is recommended to use sourceTensor.clone().detach() or sourceTensor.clone().detach().requires_grad_(True), rather than torch.tensor(sourceTensor).\n",
      "  \n",
      "/home/ysx/miniconda3/lib/python3.6/site-packages/ipykernel_launcher.py:7: UserWarning: To copy construct from a tensor, it is recommended to use sourceTensor.clone().detach() or sourceTensor.clone().detach().requires_grad_(True), rather than torch.tensor(sourceTensor).\n",
      "  import sys\n",
      "/home/ysx/miniconda3/lib/python3.6/site-packages/ipykernel_launcher.py:8: UserWarning: To copy construct from a tensor, it is recommended to use sourceTensor.clone().detach() or sourceTensor.clone().detach().requires_grad_(True), rather than torch.tensor(sourceTensor).\n",
      "  \n"
     ]
    }
   ],
   "source": [
    "torch_x = torch.from_numpy(X_train)\n",
    "torch_y = torch.from_numpy(y_train)\n",
    "test_x = torch.from_numpy(X_test)\n",
    "test_y = torch.from_numpy(y_test)\n",
    "y_train = torch.tensor(torch_y, dtype=torch.long)\n",
    "y_test = torch.tensor(test_y,dtype = torch.long)\n",
    "x_test = torch.tensor(test_x , dtype=torch.float32)\n",
    "x_train = torch.tensor(torch_x, dtype=torch.float32)\n",
    "\n",
    "\n",
    "#x_train = torch.tensor(torch_x, dtype=torch.float32)\n",
    "\n",
    "#y_train = torch_y.reshape(torch_y.shape[0], 1)\n",
    "#x,y = Variable(x_train),Variable(y_train)\n"
   ]
  },
  {
   "cell_type": "code",
   "execution_count": 72,
   "metadata": {},
   "outputs": [
    {
     "name": "stdout",
     "output_type": "stream",
     "text": [
      "torch.Size([797, 1200]) torch.Size([342, 1200])\n"
     ]
    }
   ],
   "source": [
    "print(x_train.shape, x_test.shape)"
   ]
  },
  {
   "cell_type": "code",
   "execution_count": 127,
   "metadata": {},
   "outputs": [],
   "source": [
    "#Hyper parameters\n",
    "EPOCH = 20\n",
    "BATCH_SIZE = 50\n",
    "LR = 0.001\n"
   ]
  },
  {
   "cell_type": "code",
   "execution_count": 128,
   "metadata": {},
   "outputs": [],
   "source": [
    "x_test = x_test.reshape(x_test.shape[0], 20,60)\n",
    "x_train = x_train.reshape(x_train.shape[0], 20,60)\n",
    "torch_dataset = Data.TensorDataset(x_train,y_train )\n",
    "train_loader = Data.DataLoader(dataset= torch_dataset, batch_size=BATCH_SIZE, shuffle=True,num_workers=2)\n"
   ]
  },
  {
   "cell_type": "code",
   "execution_count": null,
   "metadata": {},
   "outputs": [],
   "source": []
  },
  {
   "cell_type": "code",
   "execution_count": 129,
   "metadata": {},
   "outputs": [],
   "source": [
    "#print(x_train, x_test)"
   ]
  },
  {
   "cell_type": "code",
   "execution_count": 130,
   "metadata": {},
   "outputs": [],
   "source": [
    "class CNN(nn.Module):\n",
    "    def __init__(self):\n",
    "        super(CNN, self).__init__()\n",
    "        self.conv1 = nn.Sequential(         # input shape (1, 28, 28)\n",
    "            nn.Conv1d(\n",
    "                in_channels=20,              # input height\n",
    "                out_channels=16,            # n_filters\n",
    "                kernel_size=5,              # filter size\n",
    "                stride=1,                   # filter movement/step\n",
    "                                            # if want same width and length of this image after con2d, padding=(kernel_size-1)/2 if stride=1\n",
    "            ),                              # output shape (16, 28, 28)\n",
    "            nn.ReLU(),                      # activation\n",
    "            nn.MaxPool1d(kernel_size=2),    # choose max value in 2x2 area, output shape (16, 14, 14)\n",
    "        )\n",
    "        self.conv2 = nn.Sequential(         # input shape (1, 28, 28)\n",
    "            nn.Conv1d(16, 32, 5, 1),     # output shape (32, 14, 14)\n",
    "            nn.ReLU(),                      # activation\n",
    "            nn.MaxPool1d(2),                # output shape (32, 7, 7)\n",
    "        )\n",
    "\n",
    "        self.out = nn.Linear(32 * 12, 8)   # fully connected layer, output 10 classes\n",
    "\n",
    "    def forward(self, x):\n",
    "        x = self.conv1(x)\n",
    "        x = self.conv2(x)\n",
    "        \n",
    "        \n",
    "        x = x.view(x.size(0), -1)           # flatten the output of conv2 to (batch_size, 32 * 7 * 7)\n",
    "        output = self.out(x)\n",
    "        return output, x    # return x for visualization"
   ]
  },
  {
   "cell_type": "code",
   "execution_count": 131,
   "metadata": {},
   "outputs": [],
   "source": [
    "cnn = CNN()\n",
    "optimizer = torch.optim.Adam(cnn.parameters(), lr = LR)\n",
    "loss_func = torch.nn.CrossEntropyLoss()"
   ]
  },
  {
   "cell_type": "code",
   "execution_count": 132,
   "metadata": {
    "scrolled": true
   },
   "outputs": [
    {
     "name": "stdout",
     "output_type": "stream",
     "text": [
      "epoch:0loss:tensor(2.0811, grad_fn=<NllLossBackward>)|train accuracy:0.1191969887076537\n",
      "epoch:1loss:tensor(2.0420, grad_fn=<NllLossBackward>)|train accuracy:0.31493099121706397\n",
      "epoch:2loss:tensor(1.9720, grad_fn=<NllLossBackward>)|train accuracy:0.4755332496863237\n",
      "epoch:3loss:tensor(1.7647, grad_fn=<NllLossBackward>)|train accuracy:0.5056461731493099\n",
      "epoch:4loss:tensor(1.3467, grad_fn=<NllLossBackward>)|train accuracy:0.6386449184441656\n",
      "epoch:5loss:tensor(1.1566, grad_fn=<NllLossBackward>)|train accuracy:0.7164366373902133\n",
      "epoch:6loss:tensor(0.9539, grad_fn=<NllLossBackward>)|train accuracy:0.7754077791718946\n",
      "epoch:7loss:tensor(0.5809, grad_fn=<NllLossBackward>)|train accuracy:0.7741530740276035\n",
      "epoch:8loss:tensor(0.4970, grad_fn=<NllLossBackward>)|train accuracy:0.8343789209535759\n",
      "epoch:9loss:tensor(0.2458, grad_fn=<NllLossBackward>)|train accuracy:0.8670012547051443\n",
      "epoch:10loss:tensor(0.4089, grad_fn=<NllLossBackward>)|train accuracy:0.8895859473023839\n",
      "epoch:11loss:tensor(0.3142, grad_fn=<NllLossBackward>)|train accuracy:0.8858218318695107\n",
      "epoch:12loss:tensor(0.2485, grad_fn=<NllLossBackward>)|train accuracy:0.8933500627352572\n",
      "epoch:13loss:tensor(0.2729, grad_fn=<NllLossBackward>)|train accuracy:0.8933500627352572\n",
      "epoch:14loss:tensor(0.3426, grad_fn=<NllLossBackward>)|train accuracy:0.8933500627352572\n",
      "epoch:15loss:tensor(0.3245, grad_fn=<NllLossBackward>)|train accuracy:0.9272271016311167\n",
      "epoch:16loss:tensor(0.2203, grad_fn=<NllLossBackward>)|train accuracy:0.918444165621079\n",
      "epoch:17loss:tensor(0.4559, grad_fn=<NllLossBackward>)|train accuracy:0.9297365119196989\n",
      "epoch:18loss:tensor(0.2280, grad_fn=<NllLossBackward>)|train accuracy:0.9347553324968633\n",
      "epoch:19loss:tensor(0.1355, grad_fn=<NllLossBackward>)|train accuracy:0.9385194479297365\n"
     ]
    }
   ],
   "source": [
    "Loss_CNN = []\n",
    "Times = []\n",
    "times = 0\n",
    "for epoch in range(EPOCH):\n",
    "    for step, (x, y) in enumerate(train_loader):   # gives batch data, normalize x when iterate train_loader\n",
    "        b_x = Variable(x)   # batch x\n",
    "        b_y = Variable(y)   # batch y\n",
    "\n",
    "        output = cnn(b_x)[0]               # cnn output\n",
    "        loss = loss_func(output, b_y)   # cross entropy loss\n",
    "        optimizer.zero_grad()           # clear gradients for this training step\n",
    "        loss.backward()                 # backpropagation, compute gradients\n",
    "        optimizer.step()                # apply gradients\n",
    "        Loss_CNN.append(loss.data)\n",
    "        times += 1\n",
    "        Times.append(times)\n",
    "        #print(times)\n",
    "\n",
    "        if step % 50 == 0:\n",
    "            train_output, last_layer = cnn(x_train)\n",
    "            pred_y = torch.max(train_output, 1)[1].data.squeeze()\n",
    "            accuracy = (pred_y == y_train).sum().item() / float(y_train.size(0))\n",
    "            print('epoch:'+ str(epoch) + 'loss:'+ str(loss)+'|train accuracy:' + str(accuracy) )\n",
    "\n",
    "\n",
    "\n",
    "            \n",
    "            \n",
    "            \n",
    "            \n",
    "    "
   ]
  },
  {
   "cell_type": "code",
   "execution_count": 136,
   "metadata": {},
   "outputs": [
    {
     "data": {
      "image/png": "[encoded data removed]",
      "text/plain": [
       "<Figure size 432x288 with 1 Axes>"
      ]
     },
     "metadata": {
      "needs_background": "light"
     },
     "output_type": "display_data"
    }
   ],
   "source": [
    "#print(Times)\n",
    "#print()\n",
    "plt.plot(Times,Loss_CNN)\n",
    "plt.show()\n",
    "np.save('Loss_CNN.npy',Loss_CNN)"
   ]
  },
  {
   "cell_type": "code",
   "execution_count": 134,
   "metadata": {},
   "outputs": [
    {
     "name": "stdout",
     "output_type": "stream",
     "text": [
      "| test accuracy: 0.92\n"
     ]
    }
   ],
   "source": [
    "test_output, last_layer = cnn(x_test)\n",
    "pred_y = torch.max(test_output, 1)[1].data.squeeze()\n",
    "accuracy = (pred_y == y_test).sum().item() / float(test_y.size(0))\n",
    "print('| test accuracy: %.2f' % accuracy)"
   ]
  },
  {
   "cell_type": "code",
   "execution_count": 135,
   "metadata": {},
   "outputs": [],
   "source": [
    "from sklearn.metrics import confusion_matrix\n",
    "from sklearn.metrics import recall_score\n",
    "import matplotlib.pyplot as plt"
   ]
  },
  {
   "cell_type": "code",
   "execution_count": 100,
   "metadata": {},
   "outputs": [],
   "source": [
    "#print(pred_y.numpy(),y_test)"
   ]
  },
  {
   "cell_type": "code",
   "execution_count": 137,
   "metadata": {},
   "outputs": [
    {
     "data": {
      "image/png": "[encoded data removed]",
      "text/plain": [
       "<Figure size 432x288 with 2 Axes>"
      ]
     },
     "metadata": {
      "needs_background": "light"
     },
     "output_type": "display_data"
    }
   ],
   "source": [
    "# 预测数据，predict之后的预测结果集\n",
    "guess = pred_y.numpy()\n",
    "# 真实结果集\n",
    "fact = y_test.numpy()\n",
    "# 类别\n",
    "classes = list(set(fact))\n",
    "# 排序，准确对上分类结果\n",
    "classes.sort()\n",
    "# 对比，得到混淆矩阵\n",
    "confusion = confusion_matrix(guess, fact)\n",
    "# 热度图，后面是指定的颜色块，gray也可以，gray_x反色也可以\n",
    "plt.imshow(confusion, cmap=plt.cm.Blues)\n",
    "# 这个东西就要注意了\n",
    "# ticks 这个是坐标轴上的坐标点\n",
    "# label 这个是坐标轴的注释说明\n",
    "indices = range(len(confusion))\n",
    "# 坐标位置放入\n",
    "# 第一个是迭代对象，表示坐标的顺序\n",
    "# 第二个是坐标显示的数值的数组，第一个表示的其实就是坐标显示数字数组的index，但是记住必须是迭代对象\n",
    "plt.xticks(indices, classes)\n",
    "plt.yticks(indices, classes)\n",
    "# 热度显示仪？就是旁边的那个验孕棒啦\n",
    "plt.colorbar()\n",
    "# 就是坐标轴含义说明了\n",
    "plt.xlabel('predict_label')\n",
    "plt.ylabel('real_label')\n",
    "# 显示数据，直观些\n",
    "for first_index in range(len(confusion)):\n",
    "    for second_index in range(len(confusion[first_index])):\n",
    "        plt.text(first_index, second_index, confusion[first_index][second_index])\n",
    "plt.title('accuracy: 0.9532  recall_score: 0.9462')\n",
    "plt.savefig('CNN_results.tif', dpi = 400)\n",
    "plt.show()\n"
   ]
  },
  {
   "cell_type": "code",
   "execution_count": 102,
   "metadata": {},
   "outputs": [
    {
     "name": "stdout",
     "output_type": "stream",
     "text": [
      "0.9532163742690059 0.9462808229352347\n"
     ]
    }
   ],
   "source": [
    "from sklearn.metrics import accuracy_score\n",
    "from sklearn.metrics import recall_score\n",
    "print(accuracy_score(fact,guess),recall_score(fact, guess,average='macro'))"
   ]
  },
  {
   "cell_type": "code",
   "execution_count": null,
   "metadata": {},
   "outputs": [],
   "source": []
  },
  {
   "cell_type": "code",
   "execution_count": null,
   "metadata": {},
   "outputs": [],
   "source": []
  },
  {
   "cell_type": "code",
   "execution_count": null,
   "metadata": {},
   "outputs": [],
   "source": []
  },
  {
   "cell_type": "code",
   "execution_count": null,
   "metadata": {},
   "outputs": [],
   "source": []
  },
  {
   "cell_type": "code",
   "execution_count": null,
   "metadata": {},
   "outputs": [],
   "source": []
  }
 ],
 "metadata": {
  "kernelspec": {
   "display_name": "Python 3",
   "language": "python",
   "name": "python3"
  },
  "language_info": {
   "codemirror_mode": {
    "name": "ipython",
    "version": 3
   },
   "file_extension": ".py",
   "mimetype": "text/x-python",
   "name": "python",
   "nbconvert_exporter": "python",
   "pygments_lexer": "ipython3",
   "version": "3.6.11"
  }
 },
 "nbformat": 4,
 "nbformat_minor": 4
}
