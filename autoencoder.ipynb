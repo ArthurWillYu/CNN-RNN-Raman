{
 "cells": [
  {
   "cell_type": "code",
   "execution_count": 1,
   "metadata": {},
   "outputs": [],
   "source": [
    "import numpy as np\n",
    "import csv\n",
    "import pandas as pd\n",
    "import torch\n",
    "from torch.autograd import Variable\n",
    "import torch.nn.functional as F\n",
    "import matplotlib.pyplot as plt\n",
    "import torch.nn as nn\n",
    "import torch.utils.data as Data\n",
    "import torchvision\n",
    "from mpl_toolkits.mplot3d import Axes3D\n",
    "from matplotlib import cm"
   ]
  },
  {
   "cell_type": "code",
   "execution_count": 2,
   "metadata": {},
   "outputs": [],
   "source": [
    "from sklearn.model_selection import train_test_split\n",
    " #首先，读取.CSV文件成矩阵的形式。\n",
    "my_matrix = np.loadtxt(open(\"results.csv\"),delimiter=\",\",skiprows=0)\n",
    "#print(my_matrix)\n",
    " #对于矩阵而言，将矩阵倒数第一列之前的数值给了X（输入数据），将矩阵大最后一列的数值给了y（标签）\n",
    "X, y = my_matrix[:,:-1],my_matrix[:,-1]\n",
    " #利用train_test_split方法，将X,y随机划分问，训练集（X_train），训练集标签（X_test），测试卷（y_train），\n",
    " #测试集标签（y_test），安训练集：测试集=7:3的\n",
    " #概率划分，到此步骤，可以直接对数据进行处理\n",
    "X_train, X_test, y_train, y_test = train_test_split(X, y, test_size=0.1, random_state=None)\n",
    " #此步骤，是为了将训练集与数据集的数据分别保存为CSV文件\n",
    " #np.column_stack将两个矩阵进行组合连接\n",
    "train= np.column_stack((X_train,y_train))\n",
    " #numpy.savetxt 将txt文件保存为.csv结尾的文件\n",
    "np.savetxt('train_usual.csv',train, delimiter = ',')\n",
    "test = np.column_stack((X_test, y_test))\n",
    "np.savetxt('test_usual.csv', test, delimiter = ',')"
   ]
  },
  {
   "cell_type": "code",
   "execution_count": 3,
   "metadata": {},
   "outputs": [
    {
     "name": "stderr",
     "output_type": "stream",
     "text": [
      "/home/ysx/miniconda3/lib/python3.6/site-packages/ipykernel_launcher.py:5: UserWarning: To copy construct from a tensor, it is recommended to use sourceTensor.clone().detach() or sourceTensor.clone().detach().requires_grad_(True), rather than torch.tensor(sourceTensor).\n",
      "  \"\"\"\n",
      "/home/ysx/miniconda3/lib/python3.6/site-packages/ipykernel_launcher.py:6: UserWarning: To copy construct from a tensor, it is recommended to use sourceTensor.clone().detach() or sourceTensor.clone().detach().requires_grad_(True), rather than torch.tensor(sourceTensor).\n",
      "  \n",
      "/home/ysx/miniconda3/lib/python3.6/site-packages/ipykernel_launcher.py:7: UserWarning: To copy construct from a tensor, it is recommended to use sourceTensor.clone().detach() or sourceTensor.clone().detach().requires_grad_(True), rather than torch.tensor(sourceTensor).\n",
      "  import sys\n",
      "/home/ysx/miniconda3/lib/python3.6/site-packages/ipykernel_launcher.py:8: UserWarning: To copy construct from a tensor, it is recommended to use sourceTensor.clone().detach() or sourceTensor.clone().detach().requires_grad_(True), rather than torch.tensor(sourceTensor).\n",
      "  \n"
     ]
    }
   ],
   "source": [
    "torch_x = torch.from_numpy(X_train)\n",
    "torch_y = torch.from_numpy(y_train)\n",
    "test_x = torch.from_numpy(X_test)\n",
    "test_y = torch.from_numpy(y_test)\n",
    "y_train = torch.tensor(torch_y, dtype=torch.long)\n",
    "y_test = torch.tensor(test_y,dtype = torch.long)\n",
    "x_test = torch.tensor(test_x , dtype=torch.float32)\n",
    "x_train = torch.tensor(torch_x, dtype=torch.float32)"
   ]
  },
  {
   "cell_type": "code",
   "execution_count": 4,
   "metadata": {},
   "outputs": [],
   "source": [
    "#Hyper parameters\n",
    "EPOCH = 50\n",
    "BATCH_SIZE = 100\n",
    "TIME_STEP = 20\n",
    "INPUT_SIZE = 60\n",
    "LR = 0.001"
   ]
  },
  {
   "cell_type": "code",
   "execution_count": 5,
   "metadata": {},
   "outputs": [
    {
     "name": "stdout",
     "output_type": "stream",
     "text": [
      "torch.Size([1025, 1200]) torch.Size([114, 1200])\n",
      "tensor([[0.0333, 0.0317, 0.0304,  ..., 0.0151, 0.0129, 0.0161],\n",
      "        [0.0119, 0.0170, 0.0246,  ..., 0.0111, 0.0134, 0.0166],\n",
      "        [0.0429, 0.0343, 0.0259,  ..., 0.0076, 0.0102, 0.0150],\n",
      "        ...,\n",
      "        [0.0456, 0.0472, 0.0483,  ..., 0.0128, 0.0140, 0.0192],\n",
      "        [0.0416, 0.0392, 0.0472,  ..., 0.0307, 0.0333, 0.0363],\n",
      "        [0.0653, 0.0614, 0.0635,  ..., 0.0022, 0.0017, 0.0036]]) tensor([[0.0690, 0.0735, 0.0760,  ..., 0.0035, 0.0072, 0.0122],\n",
      "        [0.0285, 0.0342, 0.0391,  ..., 0.0307, 0.0274, 0.0306],\n",
      "        [0.0239, 0.0192, 0.0157,  ..., 0.0356, 0.0337, 0.0294],\n",
      "        ...,\n",
      "        [0.0710, 0.0686, 0.0686,  ..., 0.0411, 0.0459, 0.0432],\n",
      "        [0.0225, 0.0306, 0.0372,  ..., 0.0323, 0.0371, 0.0421],\n",
      "        [0.0657, 0.0741, 0.0860,  ..., 0.0338, 0.0365, 0.0344]])\n"
     ]
    }
   ],
   "source": [
    "#x_test = x_test.reshape(x_test.shape[0], TIME_STEP, INPUT_SIZE)\n",
    "#x_train = x_train.reshape(x_train.shape[0], TIME_STEP, INPUT_SIZE)\n",
    "print(x_train.shape,x_test.shape)\n",
    "train_data = Data.TensorDataset(x_train,y_train )\n",
    "train_loader = Data.DataLoader(dataset= train_data, batch_size=BATCH_SIZE, shuffle=True,num_workers=2)\n",
    "print(x_train,x_test)"
   ]
  },
  {
   "cell_type": "code",
   "execution_count": 6,
   "metadata": {},
   "outputs": [],
   "source": [
    "class AutoEncoder(nn.Module):\n",
    "    def __init__(self):\n",
    "        super(AutoEncoder, self).__init__()\n",
    "\n",
    "        self.encoder = nn.Sequential(\n",
    "            nn.Linear(20*60, 1200),\n",
    "            nn.LeakyReLU(),\n",
    "            nn.Linear(1200,1024),\n",
    "            nn.LeakyReLU(),\n",
    "            nn.Linear(1024,768),\n",
    "            nn.LeakyReLU(),\n",
    "            nn.Linear(768,512),\n",
    "            nn.LeakyReLU(),\n",
    "            nn.Linear(512,256),\n",
    "            nn.LeakyReLU(),\n",
    "            nn.Linear(256,3),  # compress to 3 features which can be visualized in plt\n",
    "        )\n",
    "        self.decoder = nn.Sequential(\n",
    "            nn.Linear(3, 256),\n",
    "            nn.LeakyReLU(),\n",
    "            nn.Linear(256,512),\n",
    "            nn.LeakyReLU(),\n",
    "            nn.Linear(512, 768),\n",
    "            nn.LeakyReLU(),\n",
    "            nn.Linear(768,1024),\n",
    "            nn.LeakyReLU(),\n",
    "            nn.Linear(1024,1200),\n",
    "            nn.LeakyReLU(),\n",
    "            nn.Linear(1200, 20*60),\n",
    "            #nn.Sigmoid(),       # compress to a range (0, 1)\n",
    "        )\n",
    "\n",
    "    def forward(self, x):\n",
    "        encoded = self.encoder(x)\n",
    "        decoded = self.decoder(encoded)\n",
    "        return encoded, decoded"
   ]
  },
  {
   "cell_type": "code",
   "execution_count": 7,
   "metadata": {},
   "outputs": [],
   "source": [
    "autoencoder =  AutoEncoder()\n",
    "#print(rnn)\n",
    "optimizer = torch.optim.Adam(autoencoder.parameters(), lr = LR)\n",
    "loss_func = torch.nn.MSELoss()"
   ]
  },
  {
   "cell_type": "code",
   "execution_count": 8,
   "metadata": {},
   "outputs": [
    {
     "name": "stdout",
     "output_type": "stream",
     "text": [
      "Epoch:  0 | train loss: 0.00911041 | test loss:0.00697312\n",
      "Epoch:  1 | train loss: 0.00251275 | test loss:0.00264743\n",
      "Epoch:  2 | train loss: 0.00147029 | test loss:0.00143373\n",
      "Epoch:  3 | train loss: 0.00135182 | test loss:0.00136641\n",
      "Epoch:  4 | train loss: 0.00134064 | test loss:0.00136412\n",
      "Epoch:  5 | train loss: 0.00129797 | test loss:0.00135342\n",
      "Epoch:  6 | train loss: 0.00143435 | test loss:0.00131275\n",
      "Epoch:  7 | train loss: 0.00118478 | test loss:0.00118055\n",
      "Epoch:  8 | train loss: 0.00109100 | test loss:0.00108689\n",
      "Epoch:  9 | train loss: 0.00096126 | test loss:0.00104072\n",
      "Epoch:  10 | train loss: 0.00102356 | test loss:0.00103828\n",
      "Epoch:  11 | train loss: 0.00089891 | test loss:0.00096730\n",
      "Epoch:  12 | train loss: 0.00084148 | test loss:0.00097123\n",
      "Epoch:  13 | train loss: 0.00086644 | test loss:0.00091698\n",
      "Epoch:  14 | train loss: 0.00079577 | test loss:0.00091984\n",
      "Epoch:  15 | train loss: 0.00079869 | test loss:0.00088742\n",
      "Epoch:  16 | train loss: 0.00084457 | test loss:0.00080828\n",
      "Epoch:  17 | train loss: 0.00078219 | test loss:0.00084856\n",
      "Epoch:  18 | train loss: 0.00074064 | test loss:0.00072205\n",
      "Epoch:  19 | train loss: 0.00063219 | test loss:0.00066340\n",
      "Epoch:  20 | train loss: 0.00068670 | test loss:0.00064093\n",
      "Epoch:  21 | train loss: 0.00069881 | test loss:0.00062288\n",
      "Epoch:  22 | train loss: 0.00051862 | test loss:0.00060591\n",
      "Epoch:  23 | train loss: 0.00059928 | test loss:0.00057479\n",
      "Epoch:  24 | train loss: 0.00056981 | test loss:0.00056450\n",
      "Epoch:  25 | train loss: 0.00077655 | test loss:0.00073824\n",
      "Epoch:  26 | train loss: 0.00120449 | test loss:0.00099527\n",
      "Epoch:  27 | train loss: 0.00068233 | test loss:0.00077002\n",
      "Epoch:  28 | train loss: 0.00072914 | test loss:0.00067595\n",
      "Epoch:  29 | train loss: 0.00060651 | test loss:0.00065291\n",
      "Epoch:  30 | train loss: 0.00050662 | test loss:0.00055485\n",
      "Epoch:  31 | train loss: 0.00051314 | test loss:0.00049148\n",
      "Epoch:  32 | train loss: 0.00039595 | test loss:0.00043100\n",
      "Epoch:  33 | train loss: 0.00050174 | test loss:0.00042518\n",
      "Epoch:  34 | train loss: 0.00040096 | test loss:0.00042743\n",
      "Epoch:  35 | train loss: 0.00041333 | test loss:0.00039775\n",
      "Epoch:  36 | train loss: 0.00044042 | test loss:0.00039531\n",
      "Epoch:  37 | train loss: 0.00041432 | test loss:0.00038201\n",
      "Epoch:  38 | train loss: 0.00041915 | test loss:0.00040440\n",
      "Epoch:  39 | train loss: 0.00032157 | test loss:0.00038292\n",
      "Epoch:  40 | train loss: 0.00045673 | test loss:0.00036310\n",
      "Epoch:  41 | train loss: 0.00034828 | test loss:0.00036449\n",
      "Epoch:  42 | train loss: 0.00030175 | test loss:0.00034397\n",
      "Epoch:  43 | train loss: 0.00031084 | test loss:0.00034175\n",
      "Epoch:  44 | train loss: 0.00033725 | test loss:0.00033211\n",
      "Epoch:  45 | train loss: 0.00029829 | test loss:0.00033344\n",
      "Epoch:  46 | train loss: 0.00034978 | test loss:0.00032475\n",
      "Epoch:  47 | train loss: 0.00034261 | test loss:0.00031899\n",
      "Epoch:  48 | train loss: 0.00030579 | test loss:0.00031517\n",
      "Epoch:  49 | train loss: 0.00028006 | test loss:0.00030767\n"
     ]
    }
   ],
   "source": [
    "Loss_encoder = []\n",
    "Times = []\n",
    "times = 1\n",
    "for epoch in range(EPOCH):\n",
    "    for step, (x, y) in enumerate(train_loader):\n",
    "        b_x = Variable(x)   # batch x, shape (batch, 28*28)\n",
    "        b_y = Variable(x)   # batch y, shape (batch, 28*28)\n",
    "        b_label = Variable(y)               # batch label\n",
    "\n",
    "        encoded, decoded = autoencoder(b_x)\n",
    "\n",
    "        loss = loss_func(decoded, b_y)      # mean square error\n",
    "        optimizer.zero_grad()               # clear gradients for this training step\n",
    "        loss.backward()                     # backpropagation, compute gradients\n",
    "        optimizer.step()                    # apply gradients\n",
    "        Loss_encoder.append(loss)\n",
    "        Times.append(times)\n",
    "        times += 1\n",
    "\n",
    "        if step % 100 == 0 :\n",
    "            test_encoded, test_decoded = autoencoder(x_test)\n",
    "            test_loss = loss_func(test_decoded,x_test)\n",
    "            print('Epoch: ', epoch, '| train loss: %.8f' % loss.data,'| test loss:%.8f' % test_loss.data)\n",
    "            \n"
   ]
  },
  {
   "cell_type": "code",
   "execution_count": 9,
   "metadata": {},
   "outputs": [
    {
     "data": {
      "image/png": "[encoded data removed]",
      "text/plain": [
       "<Figure size 432x288 with 1 Axes>"
      ]
     },
     "metadata": {
      "needs_background": "light"
     },
     "output_type": "display_data"
    }
   ],
   "source": [
    "plt.plot(Times,Loss_encoder)\n",
    "plt.xlabel('Times')\n",
    "plt.ylabel('Loss Value')\n",
    "plt.savefig('Encoder_loss.tif', dpi = 400)\n",
    "plt.show()\n",
    "np.save('Loss_encoder.npy', Loss_encoder)"
   ]
  },
  {
   "cell_type": "code",
   "execution_count": 10,
   "metadata": {},
   "outputs": [
    {
     "data": {
      "image/png": "[encoded data removed]",
      "text/plain": [
       "<Figure size 432x288 with 1 Axes>"
      ]
     },
     "metadata": {
      "needs_background": "light"
     },
     "output_type": "display_data"
    }
   ],
   "source": [
    "view_data = Variable(x_train[:100].type(torch.FloatTensor)/255.)\n",
    "encoded_data, _ = autoencoder(view_data)\n",
    "fig = plt.figure(1); ax = Axes3D(fig)\n",
    "X, Y, Z = encoded_data.data[:, 0].numpy(), encoded_data.data[:, 1].numpy(), encoded_data.data[:, 2].numpy()\n",
    "values = y_train[:100].numpy()\n",
    "for x, y, z, s in zip(X, Y, Z, values):\n",
    "    c = cm.rainbow(int(255*s/8)); ax.text(x, y, z, s, backgroundcolor=c)\n",
    "ax.set_xlim(X.min(), X.max()); ax.set_ylim(Y.min(), Y.max()); ax.set_zlim(Z.min(), Z.max())\n",
    "\n",
    "plt.savefig(\"encoded.tif\",dpi = 400)\n",
    "plt.show()\n"
   ]
  },
  {
   "cell_type": "code",
   "execution_count": null,
   "metadata": {},
   "outputs": [],
   "source": [
    "b_x = Variable(x_train[0])   # batch x, shape (batch, 28*28)\n",
    "encoded, decoded = autoencoder(b_x)\n",
    "print(b_x,encoded.data)"
   ]
  },
  {
   "cell_type": "code",
   "execution_count": null,
   "metadata": {},
   "outputs": [],
   "source": [
    "encoded_train_data, _ = autoencoder(x_train)\n",
    "encoded_test_data, _ = autoencoder(x_test)\n",
    "encoded_train_data = encoded_train_data.data.numpy()\n",
    "encoded_test_data = encoded_test_data.data.numpy()\n",
    "encoded_train_data = torch.tensor(encoded_train_data, dtype=torch.float32)\n",
    "encoded_test_data = torch.tensor(encoded_test_data, dtype=torch.float32)\n",
    "print(encoded_train_data)"
   ]
  },
  {
   "cell_type": "code",
   "execution_count": null,
   "metadata": {},
   "outputs": [],
   "source": [
    "encoded_train_data, _ = autoencoder(x_train)\n",
    "encoded_test_data, _ = autoencoder(x_test)\n",
    "encoded_train_data = encoded_train_data.data.numpy()\n",
    "encoded_test_data = encoded_test_data.data.numpy()\n",
    "encoded_train_data1 = pd.DataFrame(encoded_train_data)\n",
    "encoded_test_data1 = pd.DataFrame(encoded_test_data)\n",
    "y_train1 = pd.DataFrame(y_train)\n",
    "y_test1 = pd.DataFrame(y_test)\n",
    "y_train1.to_csv(r\"y_train.csv\", header=False, index=False)\n",
    "y_test1.to_csv(r\"y_test.csv\", header=False, index=False)\n",
    "encoded_train_data1.to_csv(r\"encoded_train_data.csv\", header=False, index=False)\n",
    "encoded_test_data1.to_csv(r\"encoded_test_data.csv\", header=False, index=False)\n",
    "print(encoded_train_data1.shape)"
   ]
  },
  {
   "cell_type": "code",
   "execution_count": null,
   "metadata": {},
   "outputs": [],
   "source": [
    "#print(encoded_train_data.data.numpy())\n",
    "#Hyper parameters\n",
    "EPOCH = 10\n",
    "BATCH_SIZE = 8\n",
    "LR = 0.001"
   ]
  },
  {
   "cell_type": "code",
   "execution_count": null,
   "metadata": {},
   "outputs": [],
   "source": [
    "encoded_train_data = encoded_train_data.reshape(encoded_train_data.shape[0], 8,8)\n",
    "encoded_test_data = encoded_test_data.reshape(encoded_test_data.shape[0],8,8)\n",
    "print(encoded_train_data.shape)\n",
    "torch_dataset = Data.TensorDataset(encoded_train_data,y_train )\n",
    "train_loader = Data.DataLoader(dataset= torch_dataset, batch_size=BATCH_SIZE, shuffle=True,num_workers=2)\n"
   ]
  },
  {
   "cell_type": "code",
   "execution_count": null,
   "metadata": {},
   "outputs": [],
   "source": [
    "class CNN(nn.Module):\n",
    "    def __init__(self):\n",
    "        super(CNN, self).__init__()\n",
    "        self.conv1 = nn.Sequential(         # input shape (1, 28, 28)\n",
    "            nn.Conv1d(\n",
    "                in_channels=8,              # input height\n",
    "                out_channels=16,            # n_filters\n",
    "                kernel_size=3,              # filter size\n",
    "                stride=1,                   # filter movement/step\n",
    "                                            # if want same width and length of this image after con2d, padding=(kernel_size-1)/2 if stride=1\n",
    "            ),                              # output shape (16, 28, 28)\n",
    "            nn.ReLU(),                      # activation\n",
    "            #nn.MaxPool1d(kernel_size=2),    # choose max value in 2x2 area, output shape (16, 14, 14)\n",
    "        )\n",
    "        self.conv2 = nn.Sequential(         # input shape (1, 28, 28)\n",
    "            nn.Conv1d(16, 32, 3, 1),     # output shape (32, 14, 14)\n",
    "            nn.ReLU(),                      # activation\n",
    "            #nn.MaxPool1d(2),                # output shape (32, 7, 7)\n",
    "        )\n",
    "\n",
    "        self.out = nn.Linear(128, 8)   # fully connected layer, output 10 classes\n",
    "\n",
    "    def forward(self, x):\n",
    "        x = self.conv1(x)\n",
    "        x = self.conv2(x)\n",
    "        \n",
    "        \n",
    "        x = x.view(x.size(0), -1)           # flatten the output of conv2 to (batch_size, 32 * 7 * 7)\n",
    "        output = self.out(x)\n",
    "        return output, x    # return x for visualization"
   ]
  },
  {
   "cell_type": "code",
   "execution_count": null,
   "metadata": {},
   "outputs": [],
   "source": [
    "cnn = CNN()\n",
    "optimizer = torch.optim.Adam(cnn.parameters(), lr = LR)\n",
    "loss_func = torch.nn.CrossEntropyLoss()"
   ]
  },
  {
   "cell_type": "code",
   "execution_count": null,
   "metadata": {},
   "outputs": [],
   "source": [
    "for epoch in range(EPOCH):\n",
    "    for step, (x, y) in enumerate(train_loader):   # gives batch data, normalize x when iterate train_loader\n",
    "        b_x = Variable(x)   # batch x\n",
    "        b_y = Variable(y)   # batch y\n",
    "\n",
    "        output = cnn(b_x)[0]               # cnn output\n",
    "        loss = loss_func(output, b_y)   # cross entropy loss\n",
    "        optimizer.zero_grad()           # clear gradients for this training step\n",
    "        loss.backward()                 # backpropagation, compute gradients\n",
    "        optimizer.step()                # apply gradients\n",
    "\n",
    "        if step % 50 == 0:\n",
    "            train_output, last_layer = cnn(encoded_train_data)\n",
    "            pred_y = torch.max(train_output, 1)[1].data.squeeze()\n",
    "            accuracy = (pred_y == y_train).sum().item() / float(y_train.size(0))\n",
    "            print('epoch:'+ str(epoch) + 'loss:'+ str(loss)+'|train accuracy:' + str(accuracy) )\n",
    "\n",
    "            \n",
    "            \n",
    "            "
   ]
  },
  {
   "cell_type": "code",
   "execution_count": null,
   "metadata": {},
   "outputs": [],
   "source": [
    "class RNN(nn.Module):\n",
    "    def __init__(self):\n",
    "        super(RNN, self).__init__()\n",
    "\n",
    "        self.rnn = nn.LSTM(         # if use nn.RNN(), it hardly learns\n",
    "            input_size=8,\n",
    "            hidden_size=64,         # rnn hidden unit\n",
    "            num_layers=3,           # number of rnn layer\n",
    "            batch_first=True,       # input & output will has batch size as 1s dimension. e.g. (batch, time_step, input_size)\n",
    "        )\n",
    "\n",
    "        self.out = nn.Linear(64, 8)\n",
    "\n",
    "    def forward(self, x):\n",
    "        # x shape (batch, time_step, input_size)\n",
    "        # r_out shape (batch, time_step, output_size)\n",
    "        # h_n shape (n_layers, batch, hidden_size)\n",
    "        # h_c shape (n_layers, batch, hidden_size)\n",
    "        r_out, (h_n, h_c) = self.rnn(x, None)   # None represents zero initial hidden state\n",
    "\n",
    "        # choose r_out at the last time step\n",
    "        out = self.out(r_out[:, -1, :])\n",
    "        return out"
   ]
  },
  {
   "cell_type": "code",
   "execution_count": null,
   "metadata": {},
   "outputs": [],
   "source": [
    "rnn =  RNN()\n",
    "#print(rnn)\n",
    "optimizer = torch.optim.Adam(rnn.parameters(), lr = LR)\n",
    "loss_func = torch.nn.CrossEntropyLoss()"
   ]
  },
  {
   "cell_type": "code",
   "execution_count": null,
   "metadata": {},
   "outputs": [],
   "source": [
    "for epoch in range(EPOCH):\n",
    "    for step, (x, y) in enumerate(train_loader):   # gives batch data, normalize x when iterate train_loader\n",
    "        b_x = Variable(x.view(-1,8,8))   # batch x\n",
    "        b_y = Variable(y)   # batch y\n",
    "        \n",
    "        output = rnn(b_x)\n",
    "        loss = loss_func(output, b_y)\n",
    "        optimizer.zero_grad()\n",
    "        loss.backward()\n",
    "        optimizer.step()\n",
    "        \n",
    "        if step % 50 == 0:\n",
    "            train_output = rnn(encoded_train_data)\n",
    "            pred_y = torch.max(train_output, 1)[1].data.squeeze()\n",
    "            train_accuracy = (pred_y == y_train).sum().item() / float(y_train.size(0))\n",
    "            test_output = rnn(encoded_test_data)                   # (samples, time_step, input_size)\n",
    "            pred_y = torch.max(test_output, 1)[1].data.squeeze()\n",
    "            test_accuracy = (pred_y == y_test).sum().item() / float(y_test.size(0))\n",
    "            print('Epoch: ', epoch, '| train loss: %.4f' % loss.data,'| train accuracy: %.2f' % train_accuracy, '| test accuracy: %.2f' % test_accuracy)\n",
    "        \n",
    "        \n",
    "        "
   ]
  },
  {
   "cell_type": "code",
   "execution_count": null,
   "metadata": {},
   "outputs": [],
   "source": []
  }
 ],
 "metadata": {
  "kernelspec": {
   "display_name": "Python 3",
   "language": "python",
   "name": "python3"
  },
  "language_info": {
   "codemirror_mode": {
    "name": "ipython",
    "version": 3
   },
   "file_extension": ".py",
   "mimetype": "text/x-python",
   "name": "python",
   "nbconvert_exporter": "python",
   "pygments_lexer": "ipython3",
   "version": "3.6.11"
  }
 },
 "nbformat": 4,
 "nbformat_minor": 4
}
