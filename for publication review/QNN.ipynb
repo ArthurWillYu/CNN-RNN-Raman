{
 "cells": [
  {
   "cell_type": "code",
   "execution_count": 1,
   "id": "touched-texture",
   "metadata": {},
   "outputs": [],
   "source": [
    "import numpy as np\n",
    "import torch\n",
    "my_matrix = np.loadtxt(open(\"results.csv\"),delimiter=\",\",skiprows=0)\n",
    "#print(my_matrix)\n",
    " #对于矩阵而言，将矩阵倒数第一列之前的数值给了X（输入数据），将矩阵大最后一列的数值给了y（标签）\n",
    "X, y = my_matrix[:,:-1],my_matrix[:,-1]\n",
    "X = np.load('encoded_data.npy')\n",
    "\n",
    "#X, y = make_moons(n_samples=200, noise=0.1)\n",
    "y_ = torch.unsqueeze(torch.tensor(y,dtype = torch.long), 1)  # used for one-hot encoded labels\n",
    "y_hot = torch.scatter(torch.zeros((1139, 8)), 1, y_, 1)\n",
    "\n"
   ]
  },
  {
   "cell_type": "code",
   "execution_count": 2,
   "id": "developed-blogger",
   "metadata": {},
   "outputs": [],
   "source": [
    "import pennylane.templates as em\n",
    "#import pennylane.operation as operation\n",
    "import pennylane as qml\n",
    "import pennylane as qml\n",
    "\n",
    "n_qubits = 3\n",
    "dev = qml.device(\"default.qubit\", wires=n_qubits)\n",
    "\n",
    "@qml.qnode(dev)\n",
    "def qnode(inputs, weights):\n",
    "    em.AngleEmbedding(inputs, wires=range(n_qubits))\n",
    "    em.BasicEntanglerLayers(weights, wires=range(n_qubits))\n",
    "    return [qml.expval(qml.PauliZ(wires=i)) for i in range(n_qubits)]"
   ]
  },
  {
   "cell_type": "code",
   "execution_count": 3,
   "id": "parallel-syria",
   "metadata": {},
   "outputs": [],
   "source": [
    "n_layers = 6\n",
    "weight_shapes = {\"weights\": (n_layers, n_qubits)}\n",
    "qlayer = qml.qnn.TorchLayer(qnode, weight_shapes)\n",
    "clayer_1 = torch.nn.Linear(3, 3)\n",
    "clayer_2 = torch.nn.Linear(3, 8)\n",
    "softmax = torch.nn.Softmax(dim=1)\n",
    "layers = [clayer_1, qlayer, clayer_2, softmax]\n",
    "model = torch.nn.Sequential(*layers)"
   ]
  },
  {
   "cell_type": "code",
   "execution_count": 7,
   "id": "printable-guide",
   "metadata": {},
   "outputs": [],
   "source": [
    "class HybridModel(torch.nn.Module):\n",
    "    def __init__(self):\n",
    "        super().__init__()\n",
    "        self.clayer_1 = torch.nn.Linear(3, 4)\n",
    "        self.qlayer_1 = qml.qnn.TorchLayer(qnode, weight_shapes)\n",
    "        self.qlayer_2 = qml.qnn.TorchLayer(qnode, weight_shapes)\n",
    "        self.clayer_2 = torch.nn.Linear(6, 8)\n",
    "        self.softmax = torch.nn.Softmax(dim=1)\n",
    "\n",
    "    def forward(self, x):\n",
    "        x = self.clayer_1(x)\n",
    "        x_1, x_2 = torch.split(x, 2, dim=1)\n",
    "        x_1 = self.qlayer_1(x_1)\n",
    "        x_2 = self.qlayer_2(x_2)\n",
    "        x = torch.cat([x_1, x_2], axis=1)\n",
    "        x = self.clayer_2(x)\n",
    "        return self.softmax(x)\n",
    "\n",
    "model = HybridModel()"
   ]
  },
  {
   "cell_type": "code",
   "execution_count": 8,
   "id": "prerequisite-doctrine",
   "metadata": {},
   "outputs": [],
   "source": [
    "opt = torch.optim.Adam(model.parameters(), lr=0.01)\n",
    "loss = torch.nn.L1Loss()"
   ]
  },
  {
   "cell_type": "code",
   "execution_count": 9,
   "id": "innovative-cherry",
   "metadata": {},
   "outputs": [
    {
     "name": "stderr",
     "output_type": "stream",
     "text": [
      "/home/contree/anaconda3/envs/local/lib/python3.7/site-packages/ipykernel_launcher.py:7: UserWarning: To copy construct from a tensor, it is recommended to use sourceTensor.clone().detach() or sourceTensor.clone().detach().requires_grad_(True), rather than torch.tensor(sourceTensor).\n",
      "  import sys\n",
      "/home/contree/anaconda3/envs/local/lib/python3.7/site-packages/ipykernel_launcher.py:9: UserWarning: To copy construct from a tensor, it is recommended to use sourceTensor.clone().detach() or sourceTensor.clone().detach().requires_grad_(True), rather than torch.tensor(sourceTensor).\n",
      "  if __name__ == '__main__':\n"
     ]
    },
    {
     "name": "stdout",
     "output_type": "stream",
     "text": [
      "Average loss over epoch 1: 0.7671\n",
      "Accuracy: 50.29239766081871%\n",
      "Average loss over epoch 2: 0.5148\n",
      "Accuracy: 56.14035087719298%\n",
      "Average loss over epoch 3: 0.3931\n",
      "Accuracy: 67.2514619883041%\n",
      "Average loss over epoch 4: 0.3349\n",
      "Accuracy: 78.94736842105263%\n",
      "Average loss over epoch 5: 0.2885\n",
      "Accuracy: 74.85380116959064%\n",
      "Average loss over epoch 6: 0.2720\n",
      "Accuracy: 78.94736842105263%\n",
      "Average loss over epoch 7: 0.2469\n",
      "Accuracy: 76.90058479532163%\n",
      "Average loss over epoch 8: 0.2404\n",
      "Accuracy: 81.57894736842105%\n",
      "Average loss over epoch 9: 0.2308\n",
      "Accuracy: 80.99415204678363%\n",
      "Average loss over epoch 10: 0.2230\n",
      "Accuracy: 80.7017543859649%\n",
      "Average loss over epoch 11: 0.2219\n",
      "Accuracy: 80.11695906432749%\n",
      "Average loss over epoch 12: 0.2134\n",
      "Accuracy: 82.45614035087719%\n",
      "Average loss over epoch 13: 0.2064\n",
      "Accuracy: 82.45614035087719%\n",
      "Average loss over epoch 14: 0.2048\n",
      "Accuracy: 82.45614035087719%\n",
      "Average loss over epoch 15: 0.1989\n",
      "Accuracy: 82.7485380116959%\n",
      "Average loss over epoch 16: 0.1943\n",
      "Accuracy: 83.33333333333334%\n",
      "Average loss over epoch 17: 0.1895\n",
      "Accuracy: 83.33333333333334%\n",
      "Average loss over epoch 18: 0.1924\n",
      "Accuracy: 84.21052631578947%\n",
      "Average loss over epoch 19: 0.1900\n",
      "Accuracy: 81.57894736842105%\n",
      "Average loss over epoch 20: 0.1843\n",
      "Accuracy: 82.45614035087719%\n"
     ]
    }
   ],
   "source": [
    "import torch.utils.data as Data\n",
    "from sklearn.model_selection import train_test_split\n",
    "\n",
    "X_train, X_test, y_train, y_test = train_test_split(X, y_hot, test_size=0.3, random_state=1)\n",
    "\n",
    "X_train = torch.tensor(X_train, requires_grad=True).float()\n",
    "y_train = torch.tensor(y_train)\n",
    "X_test = torch.tensor(X_test, requires_grad=True).float()\n",
    "y_test = torch.tensor(y_test)\n",
    "y_test = torch.argmax(y_test, dim=1).detach().numpy()\n",
    "\n",
    "batch_size = 5\n",
    "batches = 200 // batch_size\n",
    "\n",
    "\n",
    "data_loader = Data.DataLoader(\n",
    "    list(zip(X_train, y_train)), batch_size=5, shuffle=True, drop_last=True\n",
    ")\n",
    "\n",
    "epochs = 20\n",
    "epoch_list =[]\n",
    "train_loss =[]\n",
    "acc_test = []\n",
    "\n",
    "for epoch in range(epochs):\n",
    "    epoch_list.append(epoch)\n",
    "    running_loss = 0\n",
    "\n",
    "    for xs, ys in data_loader:\n",
    "        opt.zero_grad()\n",
    "        \n",
    "        out = model(xs)\n",
    "        loss_evaluated = loss(out, ys)\n",
    "        loss_evaluated.backward()\n",
    "\n",
    "        opt.step()\n",
    "\n",
    "        running_loss += loss_evaluated\n",
    "\n",
    "    avg_loss = running_loss / batches\n",
    "    train_loss.append(avg_loss)\n",
    "    print(\"Average loss over epoch {}: {:.4f}\".format(epoch + 1, avg_loss))\n",
    "\n",
    "    y_pred = model(X_test)\n",
    "    predictions = torch.argmax(y_pred, dim=1).detach().numpy()\n",
    "    \n",
    "    correct = [1 if p == p_true else 0 for p, p_true in zip(predictions, y_test)]\n",
    "    accuracy = sum(correct) / len(correct)\n",
    "    acc_test.append(accuracy)\n",
    "    print(f\"Accuracy: {accuracy * 100}%\")"
   ]
  },
  {
   "cell_type": "code",
   "execution_count": 10,
   "id": "fundamental-employment",
   "metadata": {},
   "outputs": [],
   "source": [
    "guess = torch.argmax(y_pred, dim=1).detach().numpy()\n",
    "fact = y_test"
   ]
  },
  {
   "cell_type": "code",
   "execution_count": 29,
   "id": "horizontal-panel",
   "metadata": {},
   "outputs": [
    {
     "data": {
      "image/png": "[encoded data removed]",
      "text/plain": [
       "<Figure size 432x288 with 1 Axes>"
      ]
     },
     "metadata": {
      "needs_background": "light"
     },
     "output_type": "display_data"
    }
   ],
   "source": [
    "import matplotlib.pyplot as plt\n",
    "\n",
    "plt.plot(epoch_list,train_loss, label = 'Loss')\n",
    "plt.plot(epoch_list,acc_test, label = 'Accuracy')\n",
    "plt.legend()\n",
    "plt.savefig('QNN_Loss.tif', dpi = 400)\n",
    "plt.show()\n",
    "#np.save('Loss_CNN.npy',Loss_CNN)"
   ]
  },
  {
   "cell_type": "code",
   "execution_count": 17,
   "id": "important-permission",
   "metadata": {},
   "outputs": [
    {
     "data": {
      "image/png": "[encoded data removed]",
      "text/plain": [
       "<Figure size 432x288 with 2 Axes>"
      ]
     },
     "metadata": {
      "needs_background": "light"
     },
     "output_type": "display_data"
    }
   ],
   "source": [
    "from sklearn.metrics import confusion_matrix\n",
    "from sklearn.metrics import recall_score\n",
    "\n",
    "from sklearn.metrics import accuracy_score\n",
    "from sklearn.metrics import recall_score\n",
    "#print(accuracy_score(fact,guess),recall_score(fact, guess,average='macro'))\n",
    "\n",
    "# 类别\n",
    "classes = list(set(fact))\n",
    "# 排序，准确对上分类结果\n",
    "classes.sort()\n",
    "# 对比，得到混淆矩阵\n",
    "confusion = confusion_matrix(guess, fact)\n",
    "# 热度图，后面是指定的颜色块，gray也可以，gray_x反色也可以\n",
    "plt.imshow(confusion, cmap=plt.cm.Blues)\n",
    "# 这个东西就要注意了\n",
    "# ticks 这个是坐标轴上的坐标点\n",
    "# label 这个是坐标轴的注释说明\n",
    "indices = range(len(confusion))\n",
    "# 坐标位置放入\n",
    "# 第一个是迭代对象，表示坐标的顺序\n",
    "# 第二个是坐标显示的数值的数组，第一个表示的其实就是坐标显示数字数组的index，但是记住必须是迭代对象\n",
    "plt.xticks(indices, classes)\n",
    "plt.yticks(indices, classes)\n",
    "# 热度显示仪？就是旁边的那个验孕棒啦\n",
    "plt.colorbar()\n",
    "# 就是坐标轴含义说明了\n",
    "plt.xlabel('predict_label')\n",
    "plt.ylabel('real_label')\n",
    "# 显示数据，直观些\n",
    "for first_index in range(len(confusion)):\n",
    "    for second_index in range(len(confusion[first_index])):\n",
    "        plt.text(first_index, second_index, confusion[first_index][second_index])\n",
    "plt.title('accuracy: 0.82')\n",
    "plt.savefig('QNN_results.tif', dpi = 400)\n",
    "plt.show()"
   ]
  },
  {
   "cell_type": "code",
   "execution_count": null,
   "id": "conservative-springer",
   "metadata": {},
   "outputs": [],
   "source": []
  },
  {
   "cell_type": "code",
   "execution_count": null,
   "id": "liked-spencer",
   "metadata": {},
   "outputs": [],
   "source": []
  },
  {
   "cell_type": "code",
   "execution_count": null,
   "id": "comprehensive-biotechnology",
   "metadata": {},
   "outputs": [],
   "source": []
  },
  {
   "cell_type": "code",
   "execution_count": null,
   "id": "knowing-award",
   "metadata": {},
   "outputs": [],
   "source": []
  },
  {
   "cell_type": "code",
   "execution_count": null,
   "id": "accompanied-ambassador",
   "metadata": {},
   "outputs": [],
   "source": []
  }
 ],
 "metadata": {
  "kernelspec": {
   "display_name": "Python 3",
   "language": "python",
   "name": "python3"
  },
  "language_info": {
   "codemirror_mode": {
    "name": "ipython",
    "version": 3
   },
   "file_extension": ".py",
   "mimetype": "text/x-python",
   "name": "python",
   "nbconvert_exporter": "python",
   "pygments_lexer": "ipython3",
   "version": "3.7.1"
  }
 },
 "nbformat": 4,
 "nbformat_minor": 5
}
