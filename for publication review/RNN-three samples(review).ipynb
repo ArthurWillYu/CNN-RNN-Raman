{
 "cells": [
  {
   "cell_type": "code",
   "execution_count": 1,
   "metadata": {},
   "outputs": [],
   "source": [
    "import numpy as np\n",
    "import csv\n",
    "import pandas as pd\n",
    "import torch\n",
    "from torch.autograd import Variable\n",
    "import torch.nn.functional as F\n",
    "import matplotlib.pyplot as plt\n",
    "import torch.nn as nn\n",
    "import torch.utils.data as Data\n",
    "import torchvision"
   ]
  },
  {
   "cell_type": "code",
   "execution_count": 10,
   "metadata": {},
   "outputs": [],
   "source": [
    "from sklearn.model_selection import train_test_split\n",
    " #首先，读取.CSV文件成矩阵的形式。\n",
    "my_matrix = np.loadtxt(open(\"results.csv\"),delimiter=\",\",skiprows=0)\n",
    "#print(my_matrix)\n",
    " #对于矩阵而言，将矩阵倒数第一列之前的数值给了X（输入数据），将矩阵大最后一列的数值给了y（标签）\n",
    "#X, y = my_matrix[:,:-1],my_matrix[:,-1]\n",
    " #利用train_test_split方法，将X,y随机划分问，训练集（X_train），训练集标签（X_test），测试卷（y_train），\n",
    " #测试集标签（y_test），安训练集：测试集=7:3的\n",
    " #概率划分，到此步骤，可以直接对数据进行处理\n",
    "#X_train, X_test, y_train, y_test = train_test_split(X, y, test_size=0.3, random_state=None)\n",
    " #此步骤，是为了将训练集与数据集的数据分别保存为CSV文件\n",
    " #np.column_stack将两个矩阵进行组合连接\n",
    "#train= np.column_stack((X_train,y_train))\n",
    " #numpy.savetxt 将txt文件保存为.csv结尾的文件\n",
    "#np.savetxt('train_usual.csv',train, delimiter = ',')\n",
    "#test = np.column_stack((X_test, y_test))\n",
    "#np.savetxt('test_usual.csv', test, delimiter = ',')"
   ]
  },
  {
   "cell_type": "code",
   "execution_count": 46,
   "metadata": {},
   "outputs": [],
   "source": [
    "data0 =my_matrix[:150]\n",
    "data1 =my_matrix[150:300]\n",
    "data2 =my_matrix[300:402]\n",
    "data3 =my_matrix[402:539]\n",
    "data4 =my_matrix[539:689]\n",
    "data5 =my_matrix[689:839]\n",
    "data6 =my_matrix[839:989]\n",
    "data7 =my_matrix[989:1139]\n",
    "data00 = data0[:50]\n",
    "data01 = data0[50:100]\n",
    "data02 = data0[100:]\n",
    "data10 = data1[:50]\n",
    "data11 = data1[50:100]\n",
    "data12 = data1[100:]\n",
    "data20 = data2[:50]\n",
    "data21 = data2[50:100]\n",
    "data22 = data2[100:]\n",
    "data30 = data3[:33]\n",
    "data31 = data3[33:66]\n",
    "data32 = data3[66:99]\n",
    "data40 = data4[:40]\n",
    "data41 = data4[40:80]\n",
    "data42 = data4[80:120]\n",
    "data50 = data5[:50]\n",
    "data51 = data5[50:100]\n",
    "data52 = data5[100:]\n",
    "data60 = data6[:50]\n",
    "data61 = data6[50:100]\n",
    "data62 = data6[100:]\n",
    "data70 = data7[:50]\n",
    "data71 = data7[50:100]\n",
    "data72 = data7[100:]\n",
    "datab0 = np.vstack((data00,data10,data20,data30,data40,data50,data60,data70))\n",
    "datab1 = np.vstack((data01,data11,data21,data31,data41,data51,data61,data71))\n",
    "datab2 = np.vstack((data02,data12,data22,data32,data42,data52,data62,data72))\n",
    "\n",
    "\n",
    "train = np.vstack((datab1,datab2))\n",
    "test = datab0\n",
    "X_train, y_train = train[:,:-1],train[:,-1]\n",
    "X_test, y_test = test[:,:-1],test[:,-1]\n"
   ]
  },
  {
   "cell_type": "code",
   "execution_count": 47,
   "metadata": {
    "scrolled": true
   },
   "outputs": [
    {
     "name": "stderr",
     "output_type": "stream",
     "text": [
      "D:\\softwares\\Program Files\\Python37\\lib\\site-packages\\ipykernel_launcher.py:5: UserWarning: To copy construct from a tensor, it is recommended to use sourceTensor.clone().detach() or sourceTensor.clone().detach().requires_grad_(True), rather than torch.tensor(sourceTensor).\n",
      "  \"\"\"\n",
      "D:\\softwares\\Program Files\\Python37\\lib\\site-packages\\ipykernel_launcher.py:6: UserWarning: To copy construct from a tensor, it is recommended to use sourceTensor.clone().detach() or sourceTensor.clone().detach().requires_grad_(True), rather than torch.tensor(sourceTensor).\n",
      "  \n",
      "D:\\softwares\\Program Files\\Python37\\lib\\site-packages\\ipykernel_launcher.py:7: UserWarning: To copy construct from a tensor, it is recommended to use sourceTensor.clone().detach() or sourceTensor.clone().detach().requires_grad_(True), rather than torch.tensor(sourceTensor).\n",
      "  import sys\n",
      "D:\\softwares\\Program Files\\Python37\\lib\\site-packages\\ipykernel_launcher.py:8: UserWarning: To copy construct from a tensor, it is recommended to use sourceTensor.clone().detach() or sourceTensor.clone().detach().requires_grad_(True), rather than torch.tensor(sourceTensor).\n",
      "  \n"
     ]
    }
   ],
   "source": [
    "torch_x = torch.from_numpy(X_train)\n",
    "torch_y = torch.from_numpy(y_train)\n",
    "test_x = torch.from_numpy(X_test)\n",
    "test_y = torch.from_numpy(y_test)\n",
    "y_train = torch.tensor(torch_y, dtype=torch.long)\n",
    "y_test = torch.tensor(test_y,dtype = torch.long)\n",
    "x_test = torch.tensor(test_x , dtype=torch.float32)\n",
    "x_train = torch.tensor(torch_x, dtype=torch.float32)\n",
    "\n"
   ]
  },
  {
   "cell_type": "code",
   "execution_count": 48,
   "metadata": {},
   "outputs": [],
   "source": [
    "#Hyper parameters\n",
    "EPOCH = 50\n",
    "BATCH_SIZE = 50\n",
    "TIME_STEP = 20\n",
    "INPUT_SIZE = 60\n",
    "LR = 0.01"
   ]
  },
  {
   "cell_type": "code",
   "execution_count": 49,
   "metadata": {},
   "outputs": [],
   "source": [
    "x_test = x_test.reshape(x_test.shape[0], TIME_STEP, INPUT_SIZE)\n",
    "x_train = x_train.reshape(x_train.shape[0], TIME_STEP, INPUT_SIZE)\n",
    "#print(x_train.shape,x_test.shape)\n",
    "torch_dataset = Data.TensorDataset(x_train,y_train )\n",
    "train_loader = Data.DataLoader(dataset= torch_dataset, batch_size=BATCH_SIZE, shuffle=True,num_workers=2)\n",
    "#print(x_train,x_test)"
   ]
  },
  {
   "cell_type": "code",
   "execution_count": 50,
   "metadata": {},
   "outputs": [],
   "source": [
    "class RNN(nn.Module):\n",
    "    def __init__(self):\n",
    "        super(RNN, self).__init__()\n",
    "\n",
    "        self.rnn = nn.LSTM(         # if use nn.RNN(), it hardly learns\n",
    "            input_size=INPUT_SIZE,\n",
    "            hidden_size=64,         # rnn hidden unit\n",
    "            num_layers=3,           # number of rnn layer\n",
    "            batch_first=True,       # input & output will has batch size as 1s dimension. e.g. (batch, time_step, input_size)\n",
    "        )\n",
    "\n",
    "        self.out = nn.Linear(64, 8)\n",
    "\n",
    "    def forward(self, x):\n",
    "        # x shape (batch, time_step, input_size)\n",
    "        # r_out shape (batch, time_step, output_size)\n",
    "        # h_n shape (n_layers, batch, hidden_size)\n",
    "        # h_c shape (n_layers, batch, hidden_size)\n",
    "        r_out, (h_n, h_c) = self.rnn(x, None)   # None represents zero initial hidden state\n",
    "\n",
    "        # choose r_out at the last time step\n",
    "        out = self.out(r_out[:, -1, :])\n",
    "        return out"
   ]
  },
  {
   "cell_type": "code",
   "execution_count": 51,
   "metadata": {},
   "outputs": [
    {
     "name": "stdout",
     "output_type": "stream",
     "text": [
      "RNN(\n",
      "  (rnn): LSTM(60, 64, num_layers=3, batch_first=True)\n",
      "  (out): Linear(in_features=64, out_features=8, bias=True)\n",
      ")\n"
     ]
    }
   ],
   "source": [
    "rnn =  RNN()\n",
    "print(rnn)\n",
    "optimizer = torch.optim.Adam(rnn.parameters(), lr = LR)\n",
    "loss_func = torch.nn.CrossEntropyLoss()"
   ]
  },
  {
   "cell_type": "code",
   "execution_count": 52,
   "metadata": {},
   "outputs": [
    {
     "name": "stdout",
     "output_type": "stream",
     "text": [
      "Epoch:  0 | train loss: 2.0816 | train accuracy: 0.11\n",
      "|test accuracy:0.0\n",
      "Epoch:  1 | train loss: 2.1072 | train accuracy: 0.14\n",
      "|test accuracy:0.0\n",
      "Epoch:  2 | train loss: 2.0013 | train accuracy: 0.29\n",
      "|test accuracy:0.7109848484848486\n",
      "Epoch:  3 | train loss: 1.3818 | train accuracy: 0.46\n",
      "|test accuracy:0.5414204545454546\n",
      "Epoch:  4 | train loss: 1.3636 | train accuracy: 0.50\n",
      "|test accuracy:0.8567992424242423\n",
      "Epoch:  5 | train loss: 0.7790 | train accuracy: 0.70\n",
      "|test accuracy:0.3837310606060606\n",
      "Epoch:  6 | train loss: 0.7737 | train accuracy: 0.70\n",
      "|test accuracy:0.1934280303030303\n",
      "Epoch:  7 | train loss: 0.4540 | train accuracy: 0.79\n",
      "|test accuracy:0.3906439393939394\n",
      "Epoch:  8 | train loss: 0.4651 | train accuracy: 0.83\n",
      "|test accuracy:0.4275568181818182\n",
      "Epoch:  9 | train loss: 0.6636 | train accuracy: 0.80\n",
      "|test accuracy:0.5195075757575758\n",
      "Epoch:  10 | train loss: 0.4861 | train accuracy: 0.89\n",
      "|test accuracy:0.46068181818181814\n",
      "Epoch:  11 | train loss: 0.4073 | train accuracy: 0.85\n",
      "|test accuracy:0.5483333333333333\n",
      "Epoch:  12 | train loss: 0.2542 | train accuracy: 0.90\n",
      "|test accuracy:0.49759469696969694\n",
      "Epoch:  13 | train loss: 0.1803 | train accuracy: 0.95\n",
      "|test accuracy:0.6590719696969697\n",
      "Epoch:  14 | train loss: 0.1633 | train accuracy: 0.92\n",
      "|test accuracy:1.0\n",
      "Epoch:  15 | train loss: 0.2096 | train accuracy: 0.94\n",
      "|test accuracy:0.8937121212121212\n",
      "Epoch:  16 | train loss: 0.3540 | train accuracy: 0.89\n",
      "|test accuracy:0.827973484848485\n",
      "Epoch:  17 | train loss: 0.2072 | train accuracy: 0.92\n",
      "|test accuracy:0.6959848484848484\n",
      "Epoch:  18 | train loss: 0.0752 | train accuracy: 0.97\n",
      "|test accuracy:0.9850000000000001\n",
      "Epoch:  19 | train loss: 0.1012 | train accuracy: 0.98\n",
      "|test accuracy:0.8348863636363637\n",
      "Epoch:  20 | train loss: 0.0422 | train accuracy: 0.98\n",
      "|test accuracy:0.5852462121212121\n",
      "Epoch:  21 | train loss: 0.1767 | train accuracy: 0.96\n",
      "|test accuracy:1.0\n",
      "Epoch:  22 | train loss: 0.1044 | train accuracy: 0.95\n",
      "|test accuracy:0.7691477272727273\n",
      "Epoch:  23 | train loss: 0.0589 | train accuracy: 0.95\n",
      "|test accuracy:0.6371590909090908\n",
      "Epoch:  24 | train loss: 0.0913 | train accuracy: 0.98\n",
      "|test accuracy:0.6371590909090908\n",
      "Epoch:  25 | train loss: 0.0760 | train accuracy: 0.99\n",
      "|test accuracy:0.9011363636363638\n",
      "Epoch:  26 | train loss: 0.0499 | train accuracy: 0.99\n",
      "|test accuracy:0.9261742424242424\n",
      "Epoch:  27 | train loss: 0.0306 | train accuracy: 0.98\n",
      "|test accuracy:0.7028977272727273\n",
      "Epoch:  28 | train loss: 0.0219 | train accuracy: 0.98\n",
      "|test accuracy:0.6071590909090908\n",
      "Epoch:  29 | train loss: 0.0174 | train accuracy: 0.98\n",
      "|test accuracy:0.8091856060606061\n",
      "Epoch:  30 | train loss: 0.3661 | train accuracy: 0.99\n",
      "|test accuracy:0.9850000000000001\n",
      "Epoch:  31 | train loss: 0.0848 | train accuracy: 0.95\n",
      "|test accuracy:0.9080492424242426\n",
      "Epoch:  32 | train loss: 0.0571 | train accuracy: 0.97\n",
      "|test accuracy:0.9518749999999998\n",
      "Epoch:  33 | train loss: 0.0463 | train accuracy: 0.99\n",
      "|test accuracy:1.0\n",
      "Epoch:  34 | train loss: 0.0584 | train accuracy: 0.99\n",
      "|test accuracy:1.0\n",
      "Epoch:  35 | train loss: 0.1487 | train accuracy: 0.99\n",
      "|test accuracy:1.0\n",
      "Epoch:  36 | train loss: 0.0537 | train accuracy: 0.98\n",
      "|test accuracy:1.0\n",
      "Epoch:  37 | train loss: 0.0085 | train accuracy: 0.98\n",
      "|test accuracy:0.9561742424242424\n",
      "Epoch:  38 | train loss: 0.0693 | train accuracy: 0.96\n",
      "|test accuracy:1.0\n",
      "Epoch:  39 | train loss: 0.0667 | train accuracy: 0.99\n",
      "|test accuracy:1.0\n",
      "Epoch:  40 | train loss: 0.0181 | train accuracy: 0.99\n",
      "|test accuracy:0.981875\n",
      "Epoch:  41 | train loss: 0.0024 | train accuracy: 1.00\n",
      "|test accuracy:0.981875\n",
      "Epoch:  42 | train loss: 0.0050 | train accuracy: 1.00\n",
      "|test accuracy:0.9850000000000001\n",
      "Epoch:  43 | train loss: 0.0016 | train accuracy: 1.00\n",
      "|test accuracy:1.0\n",
      "Epoch:  44 | train loss: 0.0012 | train accuracy: 1.00\n",
      "|test accuracy:1.0\n",
      "Epoch:  45 | train loss: 0.0027 | train accuracy: 1.00\n",
      "|test accuracy:1.0\n",
      "Epoch:  46 | train loss: 0.0093 | train accuracy: 1.00\n",
      "|test accuracy:1.0\n",
      "Epoch:  47 | train loss: 0.0006 | train accuracy: 1.00\n",
      "|test accuracy:1.0\n",
      "Epoch:  48 | train loss: 0.0042 | train accuracy: 1.00\n",
      "|test accuracy:1.0\n",
      "Epoch:  49 | train loss: 0.0009 | train accuracy: 1.00\n",
      "|test accuracy:1.0\n"
     ]
    }
   ],
   "source": [
    "EP=[]\n",
    "ep =0\n",
    "ACC=[]\n",
    "Loss_RNN = []\n",
    "Times = []\n",
    "times = 0\n",
    "for epoch in range(EPOCH):\n",
    "    for step, (x, y) in enumerate(train_loader):   # gives batch data, normalize x when iterate train_loader\n",
    "        b_x = Variable(x.view(-1,TIME_STEP,INPUT_SIZE))   # batch x\n",
    "        b_y = Variable(y)   # batch y\n",
    "        \n",
    "        output = rnn(b_x)\n",
    "        loss = loss_func(output, b_y)\n",
    "        optimizer.zero_grad()\n",
    "        loss.backward()\n",
    "        optimizer.step()\n",
    "        Loss_RNN.append(loss.data)\n",
    "        times += 1\n",
    "        Times.append(times)\n",
    "        \n",
    "        if step % 50 == 0:\n",
    "            EP.append(ep)\n",
    "            train_output = rnn(x_train)\n",
    "            pred_y = torch.max(train_output, 1)[1].data.squeeze()\n",
    "            train_accuracy = (pred_y == y_train).sum().item() / float(y_train.size(0))\n",
    "            ep += 1\n",
    "            print('Epoch: ', epoch, '| train loss: %.4f' % loss.data,'| train accuracy: %.2f' % train_accuracy)\n",
    "        \n",
    "        #test_output = rnn(x_test)                   # (samples, time_step, input_size)\n",
    "        #pred_y = torch.max(test_output, 1)[1].data.squeeze()\n",
    "        #test_accuracy = (pred_y == y_test).sum().item() / float(y_test.size(0))\n",
    "        \n",
    "        test_output = rnn(x_test)\n",
    "        pred_y = torch.max(test_output, 1)[1].data.squeeze()\n",
    "        \n",
    "        #print(y_test[100])\n",
    "        num = [50,50,50,33,40,50,50,50]\n",
    "        \n",
    "        acc_list = []\n",
    "        \n",
    "        #y_test = y_test.numpy()\n",
    "        #print(y_test[0:50])\n",
    "        pred_y = pred_y.numpy()\n",
    "        #print(pred_y[0:50])\n",
    "        for i in num:\n",
    "            round_ = 0\n",
    "            times_ = 0\n",
    "            for j in range(i):\n",
    "                \n",
    "                if pred_y[round_ + j] == y_test[round_ + j]:\n",
    "                    times_ += 1\n",
    "            #print(times)\n",
    "            acc_list.append( times_ / i  )\n",
    "            \n",
    "            round_ += i\n",
    "        \n",
    "        #print(acc_list)\n",
    "        final = 0\n",
    "        \n",
    "        for i in acc_list:\n",
    "            final += i\n",
    "        final = final / 8\n",
    "        \n",
    "        #print(final)\n",
    "        #accuracy = (pred_y == y_test).sum().item() / float(y_test.size(0))\n",
    "        ACC.append(final)\n",
    "        if step % 50 == 0:\n",
    "            print('|test accuracy:' + str(final))\n",
    "        #ACC.append(test_accuracy)\n",
    "        \n",
    "        \n",
    "        \n",
    "        "
   ]
  },
  {
   "cell_type": "code",
   "execution_count": 53,
   "metadata": {},
   "outputs": [
    {
     "name": "stdout",
     "output_type": "stream",
     "text": [
      "tensor(2)\n",
      "tensor([0, 0, 0, 0, 0, 0, 0, 0, 0, 0, 0, 0, 0, 0, 0, 0, 0, 0, 0, 0, 0, 0, 0, 0,\n",
      "        0, 0, 0, 0, 0, 0, 0, 0, 0, 0, 0, 0, 0, 0, 0, 0, 0, 0, 0, 0, 0, 0, 0, 0,\n",
      "        0, 0])\n",
      "[0 0 0 0 0 0 0 0 0 0 0 0 0 0 0 0 0 0 0 0 0 0 0 0 0 0 0 0 0 0 0 0 0 0 0 0 0\n",
      " 0 0 0 0 0 0 0 0 0 0 0 0 0]\n",
      "50\n",
      "50\n",
      "50\n",
      "33\n",
      "40\n",
      "50\n",
      "50\n",
      "50\n",
      "[1.0, 1.0, 1.0, 1.0, 1.0, 1.0, 1.0, 1.0]\n",
      "1.0\n"
     ]
    }
   ],
   "source": [
    "#datab0\n",
    "test_output = rnn(x_test)\n",
    "pred_y = torch.max(test_output, 1)[1].data.squeeze()\n",
    "\n",
    "print(y_test[100])\n",
    "num = [50,50,50,33,40,50,50,50]\n",
    "\n",
    "acc_list = []\n",
    "\n",
    "#y_test = y_test.numpy()\n",
    "print(y_test[0:50])\n",
    "pred_y = pred_y.numpy()\n",
    "print(pred_y[0:50])\n",
    "for i in num:\n",
    "    round_ = 0\n",
    "    times = 0\n",
    "    for j in range(i):\n",
    "        \n",
    "        if pred_y[round_ + j] == y_test[round_ + j]:\n",
    "            times += 1\n",
    "    print(times)\n",
    "    acc_list.append( times / i  )\n",
    "    \n",
    "    round_ += i\n",
    "\n",
    "print(acc_list)\n",
    "final = 0\n",
    "\n",
    "for i in acc_list:\n",
    "    final += i\n",
    "final = final / 8\n",
    "\n",
    "print(final)\n",
    "    "
   ]
  },
  {
   "cell_type": "code",
   "execution_count": 28,
   "metadata": {},
   "outputs": [
    {
     "name": "stdout",
     "output_type": "stream",
     "text": [
      "tensor(2)\n",
      "tensor([0, 0, 0, 0, 0, 0, 0, 0, 0, 0, 0, 0, 0, 0, 0, 0, 0, 0, 0, 0, 0, 0, 0, 0,\n",
      "        0, 0, 0, 0, 0, 0, 0, 0, 0, 0, 0, 0, 0, 0, 0, 0, 0, 0, 0, 0, 0, 0, 0, 0,\n",
      "        0, 0])\n",
      "[0 0 0 0 0 0 0 0 0 0 0 0 0 0 0 0 0 0 0 0 0 0 0 0 0 0 0 0 0 0 0 0 0 0 0 0 0\n",
      " 0 0 0 0 0 0 0 0 0 0 0 0 0]\n",
      "50\n",
      "50\n",
      "50\n",
      "33\n",
      "40\n",
      "50\n",
      "50\n",
      "50\n",
      "[1.0, 1.0, 1.0, 1.0, 1.0, 1.0, 1.0, 1.0]\n",
      "1.0\n"
     ]
    }
   ],
   "source": [
    "#datab1\n",
    "test_output = rnn(x_test)\n",
    "pred_y = torch.max(test_output, 1)[1].data.squeeze()\n",
    "\n",
    "print(y_test[100])\n",
    "num = [50,50,50,33,40,50,50,50]\n",
    "\n",
    "acc_list = []\n",
    "\n",
    "#y_test = y_test.numpy()\n",
    "print(y_test[0:50])\n",
    "pred_y = pred_y.numpy()\n",
    "print(pred_y[0:50])\n",
    "for i in num:\n",
    "    round_ = 0\n",
    "    times = 0\n",
    "    for j in range(i):\n",
    "        \n",
    "        if pred_y[round_ + j] == y_test[round_ + j]:\n",
    "            times += 1\n",
    "    print(times)\n",
    "    acc_list.append( times / i  )\n",
    "    \n",
    "    round_ += i\n",
    "\n",
    "print(acc_list)\n",
    "final = 0\n",
    "\n",
    "for i in acc_list:\n",
    "    final += i\n",
    "final = final / 8\n",
    "\n",
    "print(final)\n",
    "    "
   ]
  },
  {
   "cell_type": "code",
   "execution_count": 20,
   "metadata": {},
   "outputs": [
    {
     "name": "stdout",
     "output_type": "stream",
     "text": [
      "tensor(2)\n",
      "tensor([0, 0, 0, 0, 0, 0, 0, 0, 0, 0, 0, 0, 0, 0, 0, 0, 0, 0, 0, 0, 0, 0, 0, 0,\n",
      "        0, 0, 0, 0, 0, 0, 0, 0, 0, 0, 0, 0, 0, 0, 0, 0, 0, 0, 0, 0, 0, 0, 0, 0,\n",
      "        0, 0])\n",
      "[0 0 0 0 0 0 0 0 0 0 0 0 0 0 0 0 0 0 0 0 0 0 0 0 0 0 0 0 0 0 7 7 7 0 7 7 7\n",
      " 7 7 0 0 0 0 0 0 0 0 0 0 0]\n",
      "42\n",
      "42\n",
      "42\n",
      "30\n",
      "32\n",
      "42\n",
      "42\n",
      "42\n",
      "[0.84, 0.84, 0.84, 0.9090909090909091, 0.8, 0.84, 0.84, 0.84]\n",
      "0.8436363636363636\n"
     ]
    }
   ],
   "source": [
    "#datab2\n",
    "test_output = rnn(x_test)\n",
    "pred_y = torch.max(test_output, 1)[1].data.squeeze()\n",
    "\n",
    "print(y_test[100])\n",
    "num = [50,50,50,33,40,50,50,50]\n",
    "\n",
    "acc_list = []\n",
    "\n",
    "#y_test = y_test.numpy()\n",
    "print(y_test[0:50])\n",
    "pred_y = pred_y.numpy()\n",
    "print(pred_y[0:50])\n",
    "for i in num:\n",
    "    round_ = 0\n",
    "    times = 0\n",
    "    for j in range(i):\n",
    "        \n",
    "        if pred_y[round_ + j] == y_test[round_ + j]:\n",
    "            times += 1\n",
    "    print(times)\n",
    "    acc_list.append( times / i  )\n",
    "    \n",
    "    round_ += i\n",
    "\n",
    "print(acc_list)\n",
    "final = 0\n",
    "\n",
    "for i in acc_list:\n",
    "    final += i\n",
    "final = final / 8\n",
    "\n",
    "print(final)\n",
    "    "
   ]
  },
  {
   "cell_type": "code",
   "execution_count": 54,
   "metadata": {},
   "outputs": [
    {
     "data": {
      "text/plain": [
       "0.9466666666666667"
      ]
     },
     "execution_count": 54,
     "metadata": {},
     "output_type": "execute_result"
    }
   ],
   "source": [
    "final = (1+1+0.84)/3\n",
    "final"
   ]
  },
  {
   "cell_type": "code",
   "execution_count": null,
   "metadata": {},
   "outputs": [],
   "source": [
    "plt.plot(Times,Loss_RNN)\n",
    "plt.show()\n",
    "np.save('Loss_RNNfully.npy', Loss_RNN)"
   ]
  },
  {
   "cell_type": "code",
   "execution_count": 21,
   "metadata": {},
   "outputs": [
    {
     "data": {
      "image/png": "[encoded data removed]",
      "text/plain": [
       "<Figure size 432x288 with 1 Axes>"
      ]
     },
     "metadata": {
      "needs_background": "light"
     },
     "output_type": "display_data"
    }
   ],
   "source": [
    "Loss_CNN = np.load('Loss_CNNfull.npy')\n",
    "#print(Loss_CNN)\n",
    "plt.plot(Times,Loss_CNN,label = 'Loss_CNN')\n",
    "plt.plot(Times,Loss_RNN,label = 'Loss_RNN')\n",
    "plt.xlabel('training times')\n",
    "plt.ylabel('loss value')\n",
    "#plt.title('')\n",
    "plt.legend()\n",
    "plt.savefig('Lossfull.tif', dpi = 400)\n",
    "\n",
    "plt.show()\n"
   ]
  },
  {
   "cell_type": "code",
   "execution_count": 22,
   "metadata": {},
   "outputs": [
    {
     "data": {
      "image/png": "[encoded data removed]",
      "text/plain": [
       "<Figure size 432x288 with 1 Axes>"
      ]
     },
     "metadata": {
      "needs_background": "light"
     },
     "output_type": "display_data"
    }
   ],
   "source": [
    "acc_CNN = np.load('acc_CNNfull.npy')\n",
    "#print(len(acc_CNN),len(ACC),times)\n",
    "plt.plot(Times,acc_CNN,label = 'acc_CNN')\n",
    "plt.plot(Times,ACC,label = 'acc_RNN')\n",
    "plt.xlabel('training times')\n",
    "plt.ylabel('accuracy')\n",
    "#plt.title('')\n",
    "plt.legend()\n",
    "plt.savefig('accfull.tif', dpi = 400)\n",
    "\n",
    "plt.show()"
   ]
  },
  {
   "cell_type": "code",
   "execution_count": 23,
   "metadata": {},
   "outputs": [],
   "source": [
    "from sklearn.metrics import confusion_matrix\n",
    "from sklearn.metrics import recall_score\n",
    "import matplotlib.pyplot as plt"
   ]
  },
  {
   "cell_type": "code",
   "execution_count": 24,
   "metadata": {},
   "outputs": [],
   "source": [
    "# 预测数据，predict之后的预测结果集\n",
    "guess = pred_y.numpy()\n",
    "# 真实结果集\n",
    "fact = y_test.numpy()\n",
    "# 类别\n",
    "classes = list(set(fact))\n",
    "# 排序，准确对上分类结果\n",
    "classes.sort()\n",
    "# 对比，得到混淆矩阵\n",
    "confusion = confusion_matrix(guess, fact)\n",
    "\n"
   ]
  },
  {
   "cell_type": "code",
   "execution_count": 25,
   "metadata": {},
   "outputs": [
    {
     "name": "stdout",
     "output_type": "stream",
     "text": [
      "0.9883040935672515 0.9876068376068377\n"
     ]
    }
   ],
   "source": [
    "from sklearn.metrics import accuracy_score\n",
    "from sklearn.metrics import recall_score\n",
    "print(accuracy_score(fact,guess),recall_score(fact, guess,average='macro'))"
   ]
  },
  {
   "cell_type": "code",
   "execution_count": 26,
   "metadata": {},
   "outputs": [],
   "source": [
    "acc = float(accuracy_score(fact,guess))\n",
    "recall = float(recall_score(fact, guess,average='macro'))\n"
   ]
  },
  {
   "cell_type": "code",
   "execution_count": 28,
   "metadata": {},
   "outputs": [
    {
     "data": {
      "image/png": "[encoded data removed]",
      "text/plain": [
       "<Figure size 432x288 with 2 Axes>"
      ]
     },
     "metadata": {
      "needs_background": "light"
     },
     "output_type": "display_data"
    }
   ],
   "source": [
    "# 热度图，后面是指定的颜色块，gray也可以，gray_x反色也可以\n",
    "plt.imshow(confusion, cmap=plt.cm.Blues)\n",
    "# 这个东西就要注意了\n",
    "# ticks 这个是坐标轴上的坐标点\n",
    "# label 这个是坐标轴的注释说明\n",
    "indices = range(len(confusion))\n",
    "# 坐标位置放入\n",
    "# 第一个是迭代对象，表示坐标的顺序\n",
    "# 第二个是坐标显示的数值的数组，第一个表示的其实就是坐标显示数字数组的index，但是记住必须是迭代对象\n",
    "plt.xticks(indices, classes)\n",
    "plt.yticks(indices, classes)\n",
    "# 热度显示仪？就是旁边的那个验孕棒啦\n",
    "plt.colorbar()\n",
    "# 就是坐标轴含义说明了\n",
    "plt.xlabel('predict_label')\n",
    "plt.ylabel('real_label')\n",
    "plt.title('accuracy: 0.9883  recall_score: 0.9876')\n",
    "# 显示数据，直观些\n",
    "for first_index in range(len(confusion)):\n",
    "    for second_index in range(len(confusion[first_index])):\n",
    "        plt.text(first_index, second_index, confusion[first_index][second_index])\n",
    "plt.savefig('RNN_results.tif', dpi = 400)\n",
    "plt.show()"
   ]
  },
  {
   "cell_type": "code",
   "execution_count": null,
   "metadata": {},
   "outputs": [],
   "source": []
  },
  {
   "cell_type": "code",
   "execution_count": null,
   "metadata": {},
   "outputs": [],
   "source": []
  },
  {
   "cell_type": "code",
   "execution_count": null,
   "metadata": {},
   "outputs": [],
   "source": []
  },
  {
   "cell_type": "code",
   "execution_count": null,
   "metadata": {},
   "outputs": [],
   "source": []
  },
  {
   "cell_type": "code",
   "execution_count": null,
   "metadata": {},
   "outputs": [],
   "source": []
  },
  {
   "cell_type": "code",
   "execution_count": null,
   "metadata": {},
   "outputs": [],
   "source": []
  },
  {
   "cell_type": "code",
   "execution_count": null,
   "metadata": {},
   "outputs": [],
   "source": []
  },
  {
   "cell_type": "code",
   "execution_count": null,
   "metadata": {},
   "outputs": [],
   "source": []
  },
  {
   "cell_type": "code",
   "execution_count": null,
   "metadata": {},
   "outputs": [],
   "source": []
  },
  {
   "cell_type": "code",
   "execution_count": null,
   "metadata": {},
   "outputs": [],
   "source": []
  },
  {
   "cell_type": "code",
   "execution_count": null,
   "metadata": {},
   "outputs": [],
   "source": []
  },
  {
   "cell_type": "code",
   "execution_count": null,
   "metadata": {},
   "outputs": [],
   "source": []
  }
 ],
 "metadata": {
  "kernelspec": {
   "display_name": "Python 3",
   "language": "python",
   "name": "python3"
  },
  "language_info": {
   "codemirror_mode": {
    "name": "ipython",
    "version": 3
   },
   "file_extension": ".py",
   "mimetype": "text/x-python",
   "name": "python",
   "nbconvert_exporter": "python",
   "pygments_lexer": "ipython3",
   "version": "3.7.1"
  }
 },
 "nbformat": 4,
 "nbformat_minor": 4
}
